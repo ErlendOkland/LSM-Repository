{
 "cells": [
  {
   "cell_type": "code",
   "execution_count": 53,
   "id": "9f9e51fa",
   "metadata": {},
   "outputs": [],
   "source": [
    "import autosklearn.classification\n"
   ]
  },
  {
   "cell_type": "code",
   "execution_count": 1,
   "id": "6fee11dd",
   "metadata": {},
   "outputs": [],
   "source": [
    "from autosklearn.classification import AutoSklearnClassifier\n",
    "\n",
    "from autosklearn.experimental.askl2 import AutoSklearn2Classifier"
   ]
  },
  {
   "cell_type": "code",
   "execution_count": 2,
   "id": "5f4d5d18",
   "metadata": {},
   "outputs": [],
   "source": [
    "import sklearn.model_selection\n",
    "import sklearn.datasets\n",
    "import sklearn.metrics"
   ]
  },
  {
   "cell_type": "code",
   "execution_count": 3,
   "id": "e65dd245",
   "metadata": {},
   "outputs": [],
   "source": [
    "import os\n",
    "import pandas as pd\n",
    "import matplotlib.pyplot as plt"
   ]
  },
  {
   "cell_type": "markdown",
   "id": "1870fca9",
   "metadata": {},
   "source": [
    "# Prediction of landsldies using auto-sklearn machine learning"
   ]
  },
  {
   "cell_type": "code",
   "execution_count": 4,
   "id": "3d46c522",
   "metadata": {},
   "outputs": [],
   "source": [
    "os.chdir(\"/mnt/q/5m Training Data Rasters V2\")"
   ]
  },
  {
   "cell_type": "markdown",
   "id": "271b2b00",
   "metadata": {},
   "source": [
    "Loading landslide presence/absence points"
   ]
  },
  {
   "cell_type": "code",
   "execution_count": 5,
   "id": "b1757664",
   "metadata": {},
   "outputs": [],
   "source": [
    "data = pd.read_csv(\"/mnt/q/Training Data/TrainingData_50%roadsremoved_2_RF_FS.csv\")\n",
    "\n",
    "\n",
    "#data = pd.read_csv(\"/mnt/e/LSM - NGU metode/TrainingData_NGU_method.csv\")"
   ]
  },
  {
   "cell_type": "code",
   "execution_count": 6,
   "id": "3437a8de",
   "metadata": {},
   "outputs": [
    {
     "data": {
      "text/html": [
       "<div>\n",
       "<style scoped>\n",
       "    .dataframe tbody tr th:only-of-type {\n",
       "        vertical-align: middle;\n",
       "    }\n",
       "\n",
       "    .dataframe tbody tr th {\n",
       "        vertical-align: top;\n",
       "    }\n",
       "\n",
       "    .dataframe thead th {\n",
       "        text-align: right;\n",
       "    }\n",
       "</style>\n",
       "<table border=\"1\" class=\"dataframe\">\n",
       "  <thead>\n",
       "    <tr style=\"text-align: right;\">\n",
       "      <th></th>\n",
       "      <th>Landslide</th>\n",
       "      <th>eastness</th>\n",
       "      <th>profile</th>\n",
       "      <th>northernes</th>\n",
       "      <th>spi</th>\n",
       "      <th>tri</th>\n",
       "      <th>twi</th>\n",
       "      <th>elevation</th>\n",
       "      <th>d_river</th>\n",
       "      <th>landforms</th>\n",
       "      <th>d_roads</th>\n",
       "      <th>losmasse</th>\n",
       "      <th>ndvi</th>\n",
       "      <th>a_perc</th>\n",
       "      <th>landuse</th>\n",
       "      <th>soil_con</th>\n",
       "    </tr>\n",
       "  </thead>\n",
       "  <tbody>\n",
       "    <tr>\n",
       "      <th>0</th>\n",
       "      <td>0</td>\n",
       "      <td>0.501105</td>\n",
       "      <td>-11.345300</td>\n",
       "      <td>-0.865386</td>\n",
       "      <td>-1.249440</td>\n",
       "      <td>0.924816</td>\n",
       "      <td>7.47701</td>\n",
       "      <td>37.6218</td>\n",
       "      <td>148.6230</td>\n",
       "      <td>5</td>\n",
       "      <td>517.814</td>\n",
       "      <td>130</td>\n",
       "      <td>0.254263</td>\n",
       "      <td>1904.09</td>\n",
       "      <td>5</td>\n",
       "      <td>3</td>\n",
       "    </tr>\n",
       "    <tr>\n",
       "      <th>1</th>\n",
       "      <td>0</td>\n",
       "      <td>0.303129</td>\n",
       "      <td>0.804059</td>\n",
       "      <td>0.952949</td>\n",
       "      <td>-3.083090</td>\n",
       "      <td>0.030275</td>\n",
       "      <td>11.97080</td>\n",
       "      <td>38.8094</td>\n",
       "      <td>128.7100</td>\n",
       "      <td>5</td>\n",
       "      <td>169.992</td>\n",
       "      <td>130</td>\n",
       "      <td>0.343899</td>\n",
       "      <td>2037.47</td>\n",
       "      <td>10</td>\n",
       "      <td>7</td>\n",
       "    </tr>\n",
       "    <tr>\n",
       "      <th>2</th>\n",
       "      <td>0</td>\n",
       "      <td>-0.978111</td>\n",
       "      <td>-11.616400</td>\n",
       "      <td>-0.208084</td>\n",
       "      <td>2.620640</td>\n",
       "      <td>2.470670</td>\n",
       "      <td>9.08558</td>\n",
       "      <td>56.4684</td>\n",
       "      <td>121.9150</td>\n",
       "      <td>6</td>\n",
       "      <td>310.503</td>\n",
       "      <td>130</td>\n",
       "      <td>0.303695</td>\n",
       "      <td>2008.17</td>\n",
       "      <td>2</td>\n",
       "      <td>3</td>\n",
       "    </tr>\n",
       "    <tr>\n",
       "      <th>3</th>\n",
       "      <td>0</td>\n",
       "      <td>0.793612</td>\n",
       "      <td>-4.607510</td>\n",
       "      <td>-0.608424</td>\n",
       "      <td>-1.933110</td>\n",
       "      <td>0.580487</td>\n",
       "      <td>7.65612</td>\n",
       "      <td>31.5688</td>\n",
       "      <td>81.4413</td>\n",
       "      <td>5</td>\n",
       "      <td>513.673</td>\n",
       "      <td>130</td>\n",
       "      <td>0.352407</td>\n",
       "      <td>1994.25</td>\n",
       "      <td>10</td>\n",
       "      <td>7</td>\n",
       "    </tr>\n",
       "    <tr>\n",
       "      <th>4</th>\n",
       "      <td>0</td>\n",
       "      <td>-0.353161</td>\n",
       "      <td>-25.208400</td>\n",
       "      <td>-0.935562</td>\n",
       "      <td>0.196974</td>\n",
       "      <td>4.946400</td>\n",
       "      <td>5.50977</td>\n",
       "      <td>33.6191</td>\n",
       "      <td>627.6550</td>\n",
       "      <td>6</td>\n",
       "      <td>136.261</td>\n",
       "      <td>130</td>\n",
       "      <td>0.252834</td>\n",
       "      <td>2085.11</td>\n",
       "      <td>5</td>\n",
       "      <td>2</td>\n",
       "    </tr>\n",
       "  </tbody>\n",
       "</table>\n",
       "</div>"
      ],
      "text/plain": [
       "   Landslide  eastness    profile  northernes       spi       tri       twi  \\\n",
       "0          0  0.501105 -11.345300   -0.865386 -1.249440  0.924816   7.47701   \n",
       "1          0  0.303129   0.804059    0.952949 -3.083090  0.030275  11.97080   \n",
       "2          0 -0.978111 -11.616400   -0.208084  2.620640  2.470670   9.08558   \n",
       "3          0  0.793612  -4.607510   -0.608424 -1.933110  0.580487   7.65612   \n",
       "4          0 -0.353161 -25.208400   -0.935562  0.196974  4.946400   5.50977   \n",
       "\n",
       "   elevation   d_river  landforms  d_roads  losmasse      ndvi   a_perc  \\\n",
       "0    37.6218  148.6230          5  517.814       130  0.254263  1904.09   \n",
       "1    38.8094  128.7100          5  169.992       130  0.343899  2037.47   \n",
       "2    56.4684  121.9150          6  310.503       130  0.303695  2008.17   \n",
       "3    31.5688   81.4413          5  513.673       130  0.352407  1994.25   \n",
       "4    33.6191  627.6550          6  136.261       130  0.252834  2085.11   \n",
       "\n",
       "   landuse  soil_con  \n",
       "0        5         3  \n",
       "1       10         7  \n",
       "2        2         3  \n",
       "3       10         7  \n",
       "4        5         2  "
      ]
     },
     "execution_count": 6,
     "metadata": {},
     "output_type": "execute_result"
    }
   ],
   "source": [
    "data.head()\n",
    "\n",
    "#data.drop(columns=['d_roads','landuse'], inplace=True)"
   ]
  },
  {
   "cell_type": "code",
   "execution_count": 7,
   "id": "1eb75329",
   "metadata": {},
   "outputs": [
    {
     "data": {
      "text/html": [
       "<div>\n",
       "<style scoped>\n",
       "    .dataframe tbody tr th:only-of-type {\n",
       "        vertical-align: middle;\n",
       "    }\n",
       "\n",
       "    .dataframe tbody tr th {\n",
       "        vertical-align: top;\n",
       "    }\n",
       "\n",
       "    .dataframe thead th {\n",
       "        text-align: right;\n",
       "    }\n",
       "</style>\n",
       "<table border=\"1\" class=\"dataframe\">\n",
       "  <thead>\n",
       "    <tr style=\"text-align: right;\">\n",
       "      <th></th>\n",
       "      <th>Landslide</th>\n",
       "      <th>eastness</th>\n",
       "      <th>profile</th>\n",
       "      <th>northernes</th>\n",
       "      <th>spi</th>\n",
       "      <th>tri</th>\n",
       "      <th>twi</th>\n",
       "      <th>elevation</th>\n",
       "      <th>d_river</th>\n",
       "      <th>landforms</th>\n",
       "      <th>d_roads</th>\n",
       "      <th>losmasse</th>\n",
       "      <th>ndvi</th>\n",
       "      <th>a_perc</th>\n",
       "      <th>landuse</th>\n",
       "      <th>soil_con</th>\n",
       "    </tr>\n",
       "  </thead>\n",
       "  <tbody>\n",
       "    <tr>\n",
       "      <th>count</th>\n",
       "      <td>1396.000000</td>\n",
       "      <td>1396.000000</td>\n",
       "      <td>1396.000000</td>\n",
       "      <td>1396.000000</td>\n",
       "      <td>1396.000000</td>\n",
       "      <td>1396.000000</td>\n",
       "      <td>1396.000000</td>\n",
       "      <td>1396.000000</td>\n",
       "      <td>1396.000000</td>\n",
       "      <td>1396.000000</td>\n",
       "      <td>1396.000000</td>\n",
       "      <td>1396.000000</td>\n",
       "      <td>1396.000000</td>\n",
       "      <td>1396.000000</td>\n",
       "      <td>1396.000000</td>\n",
       "      <td>1396.000000</td>\n",
       "    </tr>\n",
       "    <tr>\n",
       "      <th>mean</th>\n",
       "      <td>0.500716</td>\n",
       "      <td>-0.059639</td>\n",
       "      <td>9.544104</td>\n",
       "      <td>-0.057280</td>\n",
       "      <td>-0.393516</td>\n",
       "      <td>5.833515</td>\n",
       "      <td>6.416734</td>\n",
       "      <td>238.229670</td>\n",
       "      <td>263.524617</td>\n",
       "      <td>5.005014</td>\n",
       "      <td>310.824865</td>\n",
       "      <td>85.455587</td>\n",
       "      <td>0.361355</td>\n",
       "      <td>2404.687487</td>\n",
       "      <td>3.287249</td>\n",
       "      <td>2.185530</td>\n",
       "    </tr>\n",
       "    <tr>\n",
       "      <th>std</th>\n",
       "      <td>0.500179</td>\n",
       "      <td>0.736205</td>\n",
       "      <td>100.525278</td>\n",
       "      <td>0.672218</td>\n",
       "      <td>4.183939</td>\n",
       "      <td>4.438203</td>\n",
       "      <td>2.064330</td>\n",
       "      <td>270.766236</td>\n",
       "      <td>322.365641</td>\n",
       "      <td>2.248212</td>\n",
       "      <td>507.794811</td>\n",
       "      <td>48.066026</td>\n",
       "      <td>0.110730</td>\n",
       "      <td>647.339231</td>\n",
       "      <td>2.338368</td>\n",
       "      <td>1.113279</td>\n",
       "    </tr>\n",
       "    <tr>\n",
       "      <th>min</th>\n",
       "      <td>0.000000</td>\n",
       "      <td>-0.999999</td>\n",
       "      <td>-430.919000</td>\n",
       "      <td>-0.999995</td>\n",
       "      <td>-11.529400</td>\n",
       "      <td>0.027144</td>\n",
       "      <td>0.700000</td>\n",
       "      <td>0.488276</td>\n",
       "      <td>0.000000</td>\n",
       "      <td>0.000000</td>\n",
       "      <td>0.000000</td>\n",
       "      <td>11.000000</td>\n",
       "      <td>-0.053911</td>\n",
       "      <td>667.208000</td>\n",
       "      <td>1.000000</td>\n",
       "      <td>1.000000</td>\n",
       "    </tr>\n",
       "    <tr>\n",
       "      <th>25%</th>\n",
       "      <td>0.000000</td>\n",
       "      <td>-0.805659</td>\n",
       "      <td>-40.008025</td>\n",
       "      <td>-0.694951</td>\n",
       "      <td>-1.158500</td>\n",
       "      <td>2.686495</td>\n",
       "      <td>5.036738</td>\n",
       "      <td>40.421525</td>\n",
       "      <td>62.806300</td>\n",
       "      <td>4.000000</td>\n",
       "      <td>19.224000</td>\n",
       "      <td>50.000000</td>\n",
       "      <td>0.308901</td>\n",
       "      <td>1936.772500</td>\n",
       "      <td>2.000000</td>\n",
       "      <td>1.000000</td>\n",
       "    </tr>\n",
       "    <tr>\n",
       "      <th>50%</th>\n",
       "      <td>1.000000</td>\n",
       "      <td>-0.130133</td>\n",
       "      <td>2.033375</td>\n",
       "      <td>-0.091841</td>\n",
       "      <td>0.550940</td>\n",
       "      <td>5.033710</td>\n",
       "      <td>5.952410</td>\n",
       "      <td>116.499000</td>\n",
       "      <td>156.888500</td>\n",
       "      <td>6.000000</td>\n",
       "      <td>87.878650</td>\n",
       "      <td>81.000000</td>\n",
       "      <td>0.383320</td>\n",
       "      <td>2376.840000</td>\n",
       "      <td>2.000000</td>\n",
       "      <td>2.000000</td>\n",
       "    </tr>\n",
       "    <tr>\n",
       "      <th>75%</th>\n",
       "      <td>1.000000</td>\n",
       "      <td>0.715418</td>\n",
       "      <td>48.983275</td>\n",
       "      <td>0.582779</td>\n",
       "      <td>2.025043</td>\n",
       "      <td>7.738580</td>\n",
       "      <td>7.267592</td>\n",
       "      <td>358.652000</td>\n",
       "      <td>354.136250</td>\n",
       "      <td>6.000000</td>\n",
       "      <td>397.533750</td>\n",
       "      <td>130.000000</td>\n",
       "      <td>0.431506</td>\n",
       "      <td>2795.002500</td>\n",
       "      <td>5.000000</td>\n",
       "      <td>3.000000</td>\n",
       "    </tr>\n",
       "    <tr>\n",
       "      <th>max</th>\n",
       "      <td>1.000000</td>\n",
       "      <td>0.999997</td>\n",
       "      <td>596.416000</td>\n",
       "      <td>1.000000</td>\n",
       "      <td>11.284900</td>\n",
       "      <td>53.601100</td>\n",
       "      <td>17.896800</td>\n",
       "      <td>1454.900000</td>\n",
       "      <td>5165.250000</td>\n",
       "      <td>10.000000</td>\n",
       "      <td>5032.320000</td>\n",
       "      <td>130.000000</td>\n",
       "      <td>0.569498</td>\n",
       "      <td>4622.830000</td>\n",
       "      <td>11.000000</td>\n",
       "      <td>7.000000</td>\n",
       "    </tr>\n",
       "  </tbody>\n",
       "</table>\n",
       "</div>"
      ],
      "text/plain": [
       "         Landslide     eastness      profile   northernes          spi  \\\n",
       "count  1396.000000  1396.000000  1396.000000  1396.000000  1396.000000   \n",
       "mean      0.500716    -0.059639     9.544104    -0.057280    -0.393516   \n",
       "std       0.500179     0.736205   100.525278     0.672218     4.183939   \n",
       "min       0.000000    -0.999999  -430.919000    -0.999995   -11.529400   \n",
       "25%       0.000000    -0.805659   -40.008025    -0.694951    -1.158500   \n",
       "50%       1.000000    -0.130133     2.033375    -0.091841     0.550940   \n",
       "75%       1.000000     0.715418    48.983275     0.582779     2.025043   \n",
       "max       1.000000     0.999997   596.416000     1.000000    11.284900   \n",
       "\n",
       "               tri          twi    elevation      d_river    landforms  \\\n",
       "count  1396.000000  1396.000000  1396.000000  1396.000000  1396.000000   \n",
       "mean      5.833515     6.416734   238.229670   263.524617     5.005014   \n",
       "std       4.438203     2.064330   270.766236   322.365641     2.248212   \n",
       "min       0.027144     0.700000     0.488276     0.000000     0.000000   \n",
       "25%       2.686495     5.036738    40.421525    62.806300     4.000000   \n",
       "50%       5.033710     5.952410   116.499000   156.888500     6.000000   \n",
       "75%       7.738580     7.267592   358.652000   354.136250     6.000000   \n",
       "max      53.601100    17.896800  1454.900000  5165.250000    10.000000   \n",
       "\n",
       "           d_roads     losmasse         ndvi       a_perc      landuse  \\\n",
       "count  1396.000000  1396.000000  1396.000000  1396.000000  1396.000000   \n",
       "mean    310.824865    85.455587     0.361355  2404.687487     3.287249   \n",
       "std     507.794811    48.066026     0.110730   647.339231     2.338368   \n",
       "min       0.000000    11.000000    -0.053911   667.208000     1.000000   \n",
       "25%      19.224000    50.000000     0.308901  1936.772500     2.000000   \n",
       "50%      87.878650    81.000000     0.383320  2376.840000     2.000000   \n",
       "75%     397.533750   130.000000     0.431506  2795.002500     5.000000   \n",
       "max    5032.320000   130.000000     0.569498  4622.830000    11.000000   \n",
       "\n",
       "          soil_con  \n",
       "count  1396.000000  \n",
       "mean      2.185530  \n",
       "std       1.113279  \n",
       "min       1.000000  \n",
       "25%       1.000000  \n",
       "50%       2.000000  \n",
       "75%       3.000000  \n",
       "max       7.000000  "
      ]
     },
     "execution_count": 7,
     "metadata": {},
     "output_type": "execute_result"
    }
   ],
   "source": [
    "data.describe()"
   ]
  },
  {
   "cell_type": "code",
   "execution_count": 8,
   "id": "e3033aa1",
   "metadata": {},
   "outputs": [
    {
     "name": "stdout",
     "output_type": "stream",
     "text": [
      "<class 'pandas.core.frame.DataFrame'>\n",
      "RangeIndex: 1396 entries, 0 to 1395\n",
      "Data columns (total 16 columns):\n",
      " #   Column      Non-Null Count  Dtype  \n",
      "---  ------      --------------  -----  \n",
      " 0   Landslide   1396 non-null   int64  \n",
      " 1   eastness    1396 non-null   float64\n",
      " 2   profile     1396 non-null   float64\n",
      " 3   northernes  1396 non-null   float64\n",
      " 4   spi         1396 non-null   float64\n",
      " 5   tri         1396 non-null   float64\n",
      " 6   twi         1396 non-null   float64\n",
      " 7   elevation   1396 non-null   float64\n",
      " 8   d_river     1396 non-null   float64\n",
      " 9   landforms   1396 non-null   int64  \n",
      " 10  d_roads     1396 non-null   float64\n",
      " 11  losmasse    1396 non-null   int64  \n",
      " 12  ndvi        1396 non-null   float64\n",
      " 13  a_perc      1396 non-null   float64\n",
      " 14  landuse     1396 non-null   int64  \n",
      " 15  soil_con    1396 non-null   int64  \n",
      "dtypes: float64(11), int64(5)\n",
      "memory usage: 174.6 KB\n"
     ]
    }
   ],
   "source": [
    "data.info()"
   ]
  },
  {
   "cell_type": "code",
   "execution_count": 9,
   "id": "a805ca82",
   "metadata": {},
   "outputs": [
    {
     "data": {
      "text/plain": [
       "Landslide     0\n",
       "eastness      0\n",
       "profile       0\n",
       "northernes    0\n",
       "spi           0\n",
       "tri           0\n",
       "twi           0\n",
       "elevation     0\n",
       "d_river       0\n",
       "landforms     0\n",
       "d_roads       0\n",
       "losmasse      0\n",
       "ndvi          0\n",
       "a_perc        0\n",
       "landuse       0\n",
       "soil_con      0\n",
       "dtype: int64"
      ]
     },
     "execution_count": 9,
     "metadata": {},
     "output_type": "execute_result"
    }
   ],
   "source": [
    "data.isnull().sum()"
   ]
  },
  {
   "cell_type": "markdown",
   "id": "8a9259f9",
   "metadata": {},
   "source": [
    "Import packages for machine learning"
   ]
  },
  {
   "cell_type": "code",
   "execution_count": 10,
   "id": "e97c2548",
   "metadata": {},
   "outputs": [],
   "source": [
    "from sklearn.preprocessing import StandardScaler\n",
    "from sklearn.pipeline import Pipeline\n",
    "from sklearn.model_selection import cross_validate\n",
    "from sklearn.model_selection import train_test_split\n",
    "from sklearn.metrics import make_scorer, accuracy_score\n",
    "from sklearn.ensemble import RandomForestClassifier\n",
    "from sklearn.pipeline import Pipeline\n",
    "from sklearn.preprocessing import OneHotEncoder\n",
    "from sklearn.compose import ColumnTransformer\n",
    "from sklearn.model_selection import GridSearchCV"
   ]
  },
  {
   "cell_type": "code",
   "execution_count": 11,
   "id": "58b919d0",
   "metadata": {},
   "outputs": [
    {
     "data": {
      "text/plain": [
       "<AxesSubplot:>"
      ]
     },
     "execution_count": 11,
     "metadata": {},
     "output_type": "execute_result"
    },
    {
     "data": {
      "image/png": "[encoded data removed]",
      "text/plain": [
       "<Figure size 640x480 with 1 Axes>"
      ]
     },
     "metadata": {},
     "output_type": "display_data"
    }
   ],
   "source": [
    "data[\"Landslide\"].hist()"
   ]
  },
  {
   "cell_type": "markdown",
   "id": "476a91b7",
   "metadata": {},
   "source": [
    "Identify numerical and catagorical clumns"
   ]
  },
  {
   "cell_type": "code",
   "execution_count": 12,
   "id": "d3afaf41",
   "metadata": {},
   "outputs": [
    {
     "data": {
      "text/plain": [
       "\"num_cols = ['slope_degr', 'plan_curv', 'flow_acc']\\ncat_cols = []\\n\\n\\ndata[num_cols] = data[num_cols].apply(pd.to_numeric)\\ndata[cat_cols] = data[cat_cols].apply(pd.Categorical)\\n\\ny = data.pop('Landslide')\\nX = data.copy()\\n\""
      ]
     },
     "execution_count": 12,
     "metadata": {},
     "output_type": "execute_result"
    }
   ],
   "source": [
    "num_cols = ['eastness', 'profile', 'northernes', 'spi', 'tri', 'twi', 'elevation', 'd_river','d_roads','ndvi','a_perc']\n",
    "cat_cols = ['landforms', 'losmasse','landuse', 'soil_con']\n",
    "\n",
    "\n",
    "data[num_cols] = data[num_cols].apply(pd.to_numeric)\n",
    "data[cat_cols] = data[cat_cols].apply(pd.Categorical)\n",
    "\n",
    "y = data.pop('Landslide')\n",
    "X = data.copy()\n",
    "\n",
    "\n",
    "\n",
    "\"\"\"num_cols = ['slope_degr', 'plan_curv', 'flow_acc']\n",
    "cat_cols = []\n",
    "\n",
    "\n",
    "data[num_cols] = data[num_cols].apply(pd.to_numeric)\n",
    "data[cat_cols] = data[cat_cols].apply(pd.Categorical)\n",
    "\n",
    "y = data.pop('Landslide')\n",
    "X = data.copy()\n",
    "\"\"\""
   ]
  },
  {
   "cell_type": "code",
   "execution_count": 13,
   "id": "60d25f8c",
   "metadata": {},
   "outputs": [],
   "source": [
    "# split into train and test sets\n",
    "X_train, X_test, y_train, y_test = train_test_split(X, y, test_size=0.3, random_state=42)"
   ]
  },
  {
   "cell_type": "code",
   "execution_count": 14,
   "id": "47a08e61",
   "metadata": {},
   "outputs": [
    {
     "data": {
      "text/plain": [
       "(977, 15)"
      ]
     },
     "execution_count": 14,
     "metadata": {},
     "output_type": "execute_result"
    }
   ],
   "source": [
    "X_train.shape"
   ]
  },
  {
   "cell_type": "code",
   "execution_count": 15,
   "id": "7a605a01",
   "metadata": {},
   "outputs": [
    {
     "data": {
      "text/plain": [
       "(419, 15)"
      ]
     },
     "execution_count": 15,
     "metadata": {},
     "output_type": "execute_result"
    }
   ],
   "source": [
    "X_test.shape"
   ]
  },
  {
   "cell_type": "code",
   "execution_count": 16,
   "id": "c6be3b99",
   "metadata": {},
   "outputs": [],
   "source": [
    "# If model is already run and saved ...\n",
    "\n",
    "from joblib import load\n",
    "\n",
    "# Load the model from the file\n",
    "cls_loaded = load('/mnt/q/AutoSklearn_Models/autosklearn_classifier_MLP_120min.joblib')"
   ]
  },
  {
   "cell_type": "code",
   "execution_count": 17,
   "id": "be410cd4",
   "metadata": {},
   "outputs": [],
   "source": [
    "y_pred = cls_loaded.predict(X_train)"
   ]
  },
  {
   "cell_type": "markdown",
   "id": "64d789ae",
   "metadata": {},
   "source": [
    "Build and fit a classifier"
   ]
  },
  {
   "cell_type": "code",
   "execution_count": 70,
   "id": "c8097142",
   "metadata": {},
   "outputs": [
    {
     "name": "stdout",
     "output_type": "stream",
     "text": [
      "[WARNING] [2024-05-08 19:09:40,699:Client-AutoML(1):c1203d36-0d5d-11ef-85c3-00155d2406c6] Capping the per_run_time_limit to 3599.0 to have time for a least 2 models in each process.\n"
     ]
    },
    {
     "data": {
      "text/plain": [
       "\"cls = autosklearn.classification.AutoSklearnClassifier(\\n    time_left_for_this_task=240*60,\\n    n_jobs=8,\\n    include={'classifier': ['mlp']},\\n)\\ncls.fit(X_train, y_train, X_test, y_test)\\n\""
      ]
     },
     "execution_count": 70,
     "metadata": {},
     "output_type": "execute_result"
    }
   ],
   "source": [
    "cls = autosklearn.classification.AutoSklearnClassifier(\n",
    "    time_left_for_this_task=240*60,\n",
    "    per_run_time_limit=None,\n",
    "    n_jobs=8\n",
    ")\n",
    "cls.fit(X_train, y_train, X_test, y_test)\n",
    "\n",
    "\n",
    "\n",
    "\"\"\"cls = autosklearn.classification.AutoSklearnClassifier(\n",
    "    time_left_for_this_task=240*60,\n",
    "    n_jobs=8,\n",
    "    include={'classifier': ['mlp']},\n",
    ")\n",
    "cls.fit(X_train, y_train, X_test, y_test)\n",
    "\"\"\"\n",
    "\n"
   ]
  },
  {
   "cell_type": "markdown",
   "id": "d851ec73",
   "metadata": {},
   "source": [
    "# Classification report:"
   ]
  },
  {
   "cell_type": "code",
   "execution_count": 18,
   "id": "5d978aaf",
   "metadata": {},
   "outputs": [
    {
     "name": "stdout",
     "output_type": "stream",
     "text": [
      "              precision    recall  f1-score   support\n",
      "\n",
      "           0       0.95      0.91      0.93       502\n",
      "           1       0.91      0.95      0.93       475\n",
      "\n",
      "    accuracy                           0.93       977\n",
      "   macro avg       0.93      0.93      0.93       977\n",
      "weighted avg       0.93      0.93      0.93       977\n",
      "\n"
     ]
    }
   ],
   "source": [
    "# First for the training\n",
    "\n",
    "from sklearn.metrics import classification_report\n",
    "\n",
    "print(classification_report(y_train,\n",
    "                           cls_loaded.predict(X_train))) # cls_loaded if using the imported model"
   ]
  },
  {
   "cell_type": "code",
   "execution_count": 19,
   "id": "2daf866b",
   "metadata": {},
   "outputs": [
    {
     "name": "stdout",
     "output_type": "stream",
     "text": [
      "              precision    recall  f1-score   support\n",
      "\n",
      "           0       0.87      0.88      0.87       195\n",
      "           1       0.89      0.88      0.89       224\n",
      "\n",
      "    accuracy                           0.88       419\n",
      "   macro avg       0.88      0.88      0.88       419\n",
      "weighted avg       0.88      0.88      0.88       419\n",
      "\n"
     ]
    }
   ],
   "source": [
    "# Now we test the predictive eccuarcy on the test data:\n",
    "print(classification_report(y_test,\n",
    "                           cls_loaded.predict(X_test))) # cls_loaded if using the imported model"
   ]
  },
  {
   "cell_type": "code",
   "execution_count": 20,
   "id": "bb35d89e",
   "metadata": {},
   "outputs": [
    {
     "data": {
      "image/png": "[encoded data removed]",
      "text/plain": [
       "<Figure size 800x600 with 2 Axes>"
      ]
     },
     "metadata": {},
     "output_type": "display_data"
    }
   ],
   "source": [
    "import seaborn as sns\n",
    "import matplotlib.pyplot as plt\n",
    "from sklearn.metrics import confusion_matrix, accuracy_score\n",
    "\n",
    "y_pred = cls_loaded.predict(X_test) # cls_loaded if using the imported model\n",
    "conf_matrix = confusion_matrix(y_test, y_pred)  # Ensure the order of y_test and y_pred\n",
    "\n",
    "# Creating a heatmap\n",
    "plt.figure(figsize=(8, 6))  # You can adjust the size of the figure\n",
    "sns.heatmap(conf_matrix, annot=True, fmt='d', cmap='Blues',\n",
    "            xticklabels=['Non-landslide', 'Landslide'],\n",
    "            yticklabels=['Non-landslide', 'Landslide'])\n",
    "plt.xlabel('Predicted labels')  # Label for x-axis\n",
    "plt.ylabel('True labels')  # Label for y-axis\n",
    "plt.title('Confusion Matrix')  # Title of the plot\n",
    "plt.savefig('/mnt/q/Plots/Autosklearn_MLP_CM.png') \n",
    "plt.show()"
   ]
  },
  {
   "cell_type": "code",
   "execution_count": 21,
   "id": "319852ce",
   "metadata": {},
   "outputs": [
    {
     "name": "stdout",
     "output_type": "stream",
     "text": [
      "0.8806682577565632\n"
     ]
    }
   ],
   "source": [
    "from sklearn.metrics import accuracy_score\n",
    "\n",
    "# Print the overall accuracy\n",
    "print(accuracy_score(y_test, y_pred))"
   ]
  },
  {
   "cell_type": "code",
   "execution_count": 22,
   "id": "580381ff",
   "metadata": {},
   "outputs": [
    {
     "data": {
      "image/png": "[encoded data removed]",
      "text/plain": [
       "<Figure size 500x500 with 1 Axes>"
      ]
     },
     "metadata": {},
     "output_type": "display_data"
    }
   ],
   "source": [
    "import matplotlib.pyplot as plt\n",
    "from sklearn.metrics import roc_curve, RocCurveDisplay, roc_auc_score\n",
    "\n",
    "y_probs = cls_loaded.predict_proba(X_test)[:, 1]\n",
    "positive_label = 1  # Define the positive class label; adjust according to your dataset\n",
    "fpr, tpr, thresholds = roc_curve(y_test, y_probs, pos_label=positive_label)\n",
    "auc_score = roc_auc_score(y_test, y_probs)\n",
    "\n",
    "fig, ax = plt.subplots(figsize=(5, 5))\n",
    "roc_display = RocCurveDisplay(fpr=fpr, tpr=tpr)\n",
    "roc_display.plot(ax=ax)\n",
    "\n",
    "# Adding text for AUC score and additional lines for reference\n",
    "plt.text(0.7, 0.2, f'AUC: {auc_score:.2f}', fontsize=12, bbox=dict(facecolor='white', alpha=0.5))\n",
    "plt.plot([0, 0, 1], [0, 1, 1], color='green', linestyle='--', label='Perfect Prediction')\n",
    "plt.plot([0, 1], [0, 1], color='grey', linestyle=':', label='Random Guessing')\n",
    "\n",
    "plt.legend(loc='lower right')\n",
    "\n",
    "# Save the plot to a file with the adjusted figure size\n",
    "#plt.savefig('/mnt/q/Plots/Autosklearn_MLP_Roc.png')\n",
    "plt.show()"
   ]
  },
  {
   "cell_type": "code",
   "execution_count": 23,
   "id": "b7d9c571",
   "metadata": {
    "scrolled": true
   },
   "outputs": [
    {
     "ename": "NameError",
     "evalue": "name 'cls' is not defined",
     "output_type": "error",
     "traceback": [
      "\u001b[0;31m---------------------------------------------------------------------------\u001b[0m",
      "\u001b[0;31mNameError\u001b[0m                                 Traceback (most recent call last)",
      "\u001b[0;32m/tmp/ipykernel_13718/3535468785.py\u001b[0m in \u001b[0;36m<module>\u001b[0;34m\u001b[0m\n\u001b[0;32m----> 1\u001b[0;31m \u001b[0mprint\u001b[0m\u001b[0;34m(\u001b[0m\u001b[0mcls\u001b[0m\u001b[0;34m.\u001b[0m\u001b[0mleaderboard\u001b[0m\u001b[0;34m(\u001b[0m\u001b[0;34m)\u001b[0m\u001b[0;34m)\u001b[0m \u001b[0;31m# cls_loaded if using the imported model\u001b[0m\u001b[0;34m\u001b[0m\u001b[0;34m\u001b[0m\u001b[0m\n\u001b[0m",
      "\u001b[0;31mNameError\u001b[0m: name 'cls' is not defined"
     ]
    }
   ],
   "source": [
    "print(cls.leaderboard()) # cls_loaded if using the imported model"
   ]
  },
  {
   "cell_type": "code",
   "execution_count": 24,
   "id": "fea66c8e",
   "metadata": {},
   "outputs": [
    {
     "name": "stdout",
     "output_type": "stream",
     "text": [
      "Best Model Hyperparameters: {'config': Configuration(values={\n",
      "  'balancing:strategy': 'weighting',\n",
      "  'classifier:__choice__': 'mlp',\n",
      "  'classifier:mlp:activation': 'tanh',\n",
      "  'classifier:mlp:alpha': 0.0019396134622470319,\n",
      "  'classifier:mlp:batch_size': 'auto',\n",
      "  'classifier:mlp:beta_1': 0.9,\n",
      "  'classifier:mlp:beta_2': 0.999,\n",
      "  'classifier:mlp:early_stopping': 'train',\n",
      "  'classifier:mlp:epsilon': 1e-08,\n",
      "  'classifier:mlp:hidden_layer_depth': 1,\n",
      "  'classifier:mlp:learning_rate_init': 0.0003493436737210531,\n",
      "  'classifier:mlp:n_iter_no_change': 32,\n",
      "  'classifier:mlp:num_nodes_per_layer': 152,\n",
      "  'classifier:mlp:shuffle': 'True',\n",
      "  'classifier:mlp:solver': 'adam',\n",
      "  'classifier:mlp:tol': 0.0001,\n",
      "  'data_preprocessor:__choice__': 'feature_type',\n",
      "  'data_preprocessor:feature_type:categorical_transformer:categorical_encoding:__choice__': 'one_hot_encoding',\n",
      "  'data_preprocessor:feature_type:categorical_transformer:category_coalescence:__choice__': 'minority_coalescer',\n",
      "  'data_preprocessor:feature_type:categorical_transformer:category_coalescence:minority_coalescer:minimum_fraction': 0.0056939841640579955,\n",
      "  'data_preprocessor:feature_type:numerical_transformer:imputation:strategy': 'median',\n",
      "  'data_preprocessor:feature_type:numerical_transformer:rescaling:__choice__': 'power_transformer',\n",
      "  'feature_preprocessor:__choice__': 'feature_agglomeration',\n",
      "  'feature_preprocessor:feature_agglomeration:affinity': 'euclidean',\n",
      "  'feature_preprocessor:feature_agglomeration:linkage': 'average',\n",
      "  'feature_preprocessor:feature_agglomeration:n_clusters': 44,\n",
      "  'feature_preprocessor:feature_agglomeration:pooling_func': 'mean',\n",
      "})\n",
      ", 'dataset_properties': {'task': 1, 'sparse': False, 'multilabel': False, 'multiclass': False, 'target_type': 'classification', 'signed': False}, 'exclude': {}, 'feat_type': {'eastness': 'numerical', 'profile': 'numerical', 'northernes': 'numerical', 'spi': 'numerical', 'tri': 'numerical', 'twi': 'numerical', 'elevation': 'numerical', 'd_river': 'numerical', 'landforms': 'categorical', 'd_roads': 'numerical', 'losmasse': 'categorical', 'ndvi': 'numerical', 'a_perc': 'numerical', 'landuse': 'categorical', 'soil_con': 'categorical'}, 'include': {'classifier': ['mlp']}, 'init_params': {'data_preprocessor:feat_type': {'eastness': 'numerical', 'profile': 'numerical', 'northernes': 'numerical', 'spi': 'numerical', 'tri': 'numerical', 'twi': 'numerical', 'elevation': 'numerical', 'd_river': 'numerical', 'landforms': 'categorical', 'd_roads': 'numerical', 'losmasse': 'categorical', 'ndvi': 'numerical', 'a_perc': 'numerical', 'landuse': 'categorical', 'soil_con': 'categorical'}}, 'random_state': 1, 'steps': [('data_preprocessor', <autosklearn.pipeline.components.data_preprocessing.DataPreprocessorChoice object at 0x7f81464c9690>), ('balancing', Balancing(random_state=1, strategy='weighting')), ('feature_preprocessor', <autosklearn.pipeline.components.feature_preprocessing.FeaturePreprocessorChoice object at 0x7f81464388d0>), ['classifier', <autosklearn.pipeline.components.classification.ClassifierChoice object at 0x7f8146438f50>]], 'data_preprocessor': <autosklearn.pipeline.components.data_preprocessing.DataPreprocessorChoice object at 0x7f81464c9690>, 'balancing': Balancing(random_state=1, strategy='weighting'), 'feature_preprocessor': <autosklearn.pipeline.components.feature_preprocessing.FeaturePreprocessorChoice object at 0x7f81464388d0>, 'classifier': <autosklearn.pipeline.components.classification.ClassifierChoice object at 0x7f8146438f50>, 'balancing__random_state': 1, 'balancing__strategy': 'weighting'}\n"
     ]
    }
   ],
   "source": [
    "models_with_weights = cls_loaded.get_models_with_weights() # cls_loaded if using the imported model\n",
    "\n",
    "# Assuming the first model is the best, based on its weight or your earlier analysis\n",
    "best_model = models_with_weights[0][1]\n",
    "\n",
    "# Print the hyperparameters of the best model\n",
    "print(\"Best Model Hyperparameters:\", best_model.get_params())"
   ]
  },
  {
   "cell_type": "markdown",
   "id": "dc782fcf",
   "metadata": {},
   "source": [
    "Save model"
   ]
  },
  {
   "cell_type": "code",
   "execution_count": 33,
   "id": "d42b2f2c",
   "metadata": {},
   "outputs": [],
   "source": [
    "from joblib import dump"
   ]
  },
  {
   "cell_type": "code",
   "execution_count": 34,
   "id": "00c9b704",
   "metadata": {},
   "outputs": [
    {
     "name": "stdout",
     "output_type": "stream",
     "text": [
      "Model saved to /mnt/q/AutoSklearn_Models/autosklearn_classifier_mlp_240min.joblib\n"
     ]
    }
   ],
   "source": [
    "model_directory = '/mnt/q/AutoSklearn_Models'\n",
    "model_filename = 'autosklearn_classifier_mlp_240min.joblib'\n",
    "full_path = os.path.join(model_directory, model_filename)\n",
    "\n",
    "if not os.path.exists(model_directory):\n",
    "    os.makedirs(model_directory)\n",
    "\n",
    "# Save the model to the specified file\n",
    "dump(cls, full_path)\n",
    "print(f'Model saved to {full_path}')"
   ]
  },
  {
   "cell_type": "markdown",
   "id": "474a5af4",
   "metadata": {},
   "source": [
    "# Make a stack of our predictive variables"
   ]
  },
  {
   "cell_type": "code",
   "execution_count": 77,
   "id": "b186271f",
   "metadata": {},
   "outputs": [],
   "source": [
    "from pyspatialml import Raster\n",
    "import dask.array as da\n",
    "import dask.dataframe as dd\n",
    "import rasterio\n",
    "from rasterio.transform import from_origin"
   ]
  },
  {
   "cell_type": "code",
   "execution_count": 78,
   "id": "93a393c7",
   "metadata": {},
   "outputs": [],
   "source": [
    "os.chdir(\"/mnt/q/AutoSklearn_testrasters/\")"
   ]
  },
  {
   "cell_type": "code",
   "execution_count": 27,
   "id": "b4e02a7d",
   "metadata": {},
   "outputs": [],
   "source": [
    "predictors = [\"eastness.tif\",\n",
    "              \"profile.tif\",\n",
    "              \"northernes.tif\",\n",
    "              \"spi.tif\",\n",
    "              \"tri.tif\",\n",
    "              \"twi.tif\",\n",
    "              \"elevation.tif\",\n",
    "              \"d_river.tif\",\n",
    "              \"landforms.tif\",\n",
    "              \"d_roads.tif\",\n",
    "              \"losmasse.tif\",\n",
    "              \"ndvi.tif\",\n",
    "              \"a_perc.tif\",\n",
    "              \"landuse.tif\",\n",
    "              \"soil_con.tif\",\n",
    "            ]   \n"
   ]
  },
  {
   "cell_type": "code",
   "execution_count": 28,
   "id": "6f229a53",
   "metadata": {},
   "outputs": [],
   "source": [
    "stack = Raster(predictors)"
   ]
  },
  {
   "cell_type": "code",
   "execution_count": 29,
   "id": "2bb4d056",
   "metadata": {},
   "outputs": [],
   "source": [
    "stack = Raster(predictors)\n",
    "X_raster = stack.read()\n",
    "\n",
    "# Define the chunk size\n",
    "chunk_size = 1000\n",
    "\n",
    "# Get the shape of the raster data\n",
    "num_rows, num_cols, num_bands = X_raster.shape"
   ]
  },
  {
   "cell_type": "code",
   "execution_count": 30,
   "id": "0adca51f",
   "metadata": {},
   "outputs": [
    {
     "data": {
      "text/plain": [
       "dict_keys(['eastness', 'profile', 'northernes', 'spi', 'tri', 'twi', 'elevation', 'd_river', 'landforms', 'd_roads', 'losmasse', 'ndvi', 'a_perc', 'landuse', 'soil_con'])"
      ]
     },
     "execution_count": 30,
     "metadata": {},
     "output_type": "execute_result"
    }
   ],
   "source": [
    "stack.names"
   ]
  },
  {
   "cell_type": "code",
   "execution_count": 31,
   "id": "b9fcc16a",
   "metadata": {},
   "outputs": [
    {
     "name": "stdout",
     "output_type": "stream",
     "text": [
      "Shape of raster stack before flattening: (15, 4360, 6342)\n"
     ]
    }
   ],
   "source": [
    "X_raster = stack.read()\n",
    "print(f\"Shape of raster stack before flattening: {X_raster.shape}\")"
   ]
  },
  {
   "cell_type": "code",
   "execution_count": 32,
   "id": "d857c5c5",
   "metadata": {},
   "outputs": [
    {
     "name": "stdout",
     "output_type": "stream",
     "text": [
      "Shape of raster stack after transpose: (4360, 6342, 15)\n"
     ]
    }
   ],
   "source": [
    "X_raster = X_raster.transpose((1, 2, 0))\n",
    "print(f\"Shape of raster stack after transpose: {X_raster.shape}\")"
   ]
  },
  {
   "cell_type": "code",
   "execution_count": 33,
   "id": "d22fd261",
   "metadata": {},
   "outputs": [],
   "source": [
    "# Flatten the raster array where each row is a pixel and each column is a feature (band)\n",
    "X_raster_flat = X_raster.reshape(-1, len(predictors))  # Reshape to (n_samples, n_features)"
   ]
  },
  {
   "cell_type": "code",
   "execution_count": 34,
   "id": "8708be60",
   "metadata": {},
   "outputs": [
    {
     "name": "stdout",
     "output_type": "stream",
     "text": [
      "Column names for prediction: ['eastness', 'profile', 'northernes', 'spi', 'tri', 'twi', 'elevation', 'd_river', 'landforms', 'd_roads', 'losmasse', 'ndvi', 'a_perc', 'landuse', 'soil_con']\n"
     ]
    }
   ],
   "source": [
    "# Create DataFrame from the flattened array, ensuring to remove '.tif' from column names\n",
    "column_names = [layer.replace('.tif', '') for layer in predictors]\n",
    "df_raster = pd.DataFrame(X_raster_flat, columns=column_names)\n",
    "\n",
    "# Ensure column names are correctly formatted for the model\n",
    "print(\"Column names for prediction:\", df_raster.columns.tolist())\n"
   ]
  },
  {
   "cell_type": "code",
   "execution_count": null,
   "id": "a1da301d",
   "metadata": {},
   "outputs": [],
   "source": [
    "# Convert DataFrame to Dask DataFrame\n",
    "ddf_raster = dd.from_pandas(df_raster, npartitions=10)  # Adjust the number of partitions as needed\n",
    "\n",
    "# Define a function to predict probabilities for a chunk\n",
    "def predict_chunk(chunk):\n",
    "    return cls_loaded.predict_proba(chunk)[:, 1]\n",
    "\n",
    "# Apply the prediction function to each partition and aggregate the results\n",
    "result_chunks = ddf_raster.map_partitions(predict_chunk).compute()\n",
    "\n",
    "# Concatenate the results from all partitions\n",
    "result_rf = np.concatenate(result_chunks)"
   ]
  },
  {
   "cell_type": "code",
   "execution_count": null,
   "id": "f31d1d0f",
   "metadata": {},
   "outputs": [],
   "source": []
  },
  {
   "cell_type": "code",
   "execution_count": 49,
   "id": "912b66aa",
   "metadata": {},
   "outputs": [],
   "source": []
  },
  {
   "cell_type": "code",
   "execution_count": 51,
   "id": "164a93ad",
   "metadata": {},
   "outputs": [],
   "source": []
  },
  {
   "cell_type": "code",
   "execution_count": null,
   "id": "80f03c1a",
   "metadata": {},
   "outputs": [],
   "source": [
    "result_rf = cls_loaded.predict_proba(df_raster) # cls_loaded if using the imported model"
   ]
  },
  {
   "cell_type": "code",
   "execution_count": null,
   "id": "ff84af1c",
   "metadata": {},
   "outputs": [],
   "source": [
    "import numpy as np\n",
    "import rasterio\n",
    "from rasterio.transform import Affine\n",
    "\n",
    "\n",
    "# Extract the second column for probabilities of landslides happening\n",
    "landslide_probabilities = result_rf[:, 1]  # All rows, second column\n",
    "\n",
    "# Reshape this array to match the spatial structure of the raster\n",
    "reshaped_probabilities = landslide_probabilities.reshape(1039, 1406)\n",
    "\n",
    "# Visualization of the probabilities\n",
    "plt.figure(figsize=(10, 6))\n",
    "plt.imshow(reshaped_probabilities, cmap='viridis')\n",
    "plt.colorbar(label='Probability of Landslide')\n",
    "plt.title('Landslide Probability Map')\n",
    "plt.xlabel('Pixel X Coordinate')\n",
    "plt.ylabel('Pixel Y Coordinate')\n",
    "plt.show()\n",
    "\n",
    "# Metadata and output path for saving the raster\n",
    "transform = Affine(5.0, 0.0, -19410.0, 0.0, -5.0, 6660253.0)\n",
    "crs = 'EPSG:25833'\n",
    "metadata = {\n",
    "    'driver': 'GTiff',\n",
    "    'height': reshaped_probabilities.shape[0],\n",
    "    'width': reshaped_probabilities.shape[1],\n",
    "    'count': 1,\n",
    "    'dtype': 'float32',\n",
    "    'crs': crs,\n",
    "    'transform': transform\n",
    "}\n",
    "output_path = \"/mnt/q/Prediction_autosklearn_mlp_50%roadsremoved.tif\"\n",
    "\n",
    "# Saving the probabilities as a TIFF file\n",
    "with rasterio.open(output_path, 'w', **metadata) as dst:\n",
    "    dst.write(reshaped_probabilities.astype(np.float32), 1)\n",
    "    print(\"TIFF file written successfully at:\", output_path)\n"
   ]
  },
  {
   "cell_type": "markdown",
   "id": "651234a6",
   "metadata": {},
   "source": [
    "Visualize the predictive variables"
   ]
  },
  {
   "cell_type": "code",
   "execution_count": 1,
   "id": "6a3a410b",
   "metadata": {},
   "outputs": [
    {
     "ename": "NameError",
     "evalue": "name 'stack' is not defined",
     "output_type": "error",
     "traceback": [
      "\u001b[0;31m---------------------------------------------------------------------------\u001b[0m",
      "\u001b[0;31mNameError\u001b[0m                                 Traceback (most recent call last)",
      "\u001b[0;32m/tmp/ipykernel_13737/3428771415.py\u001b[0m in \u001b[0;36m<module>\u001b[0;34m\u001b[0m\n\u001b[0;32m----> 1\u001b[0;31m \u001b[0maxs\u001b[0m \u001b[0;34m=\u001b[0m \u001b[0mstack\u001b[0m\u001b[0;34m.\u001b[0m\u001b[0mplot\u001b[0m\u001b[0;34m(\u001b[0m\u001b[0mfigsize\u001b[0m\u001b[0;34m=\u001b[0m\u001b[0;34m(\u001b[0m\u001b[0;36m9\u001b[0m\u001b[0;34m,\u001b[0m \u001b[0;36m7\u001b[0m\u001b[0;34m)\u001b[0m\u001b[0;34m)\u001b[0m\u001b[0;34m\u001b[0m\u001b[0;34m\u001b[0m\u001b[0m\n\u001b[0m\u001b[1;32m      2\u001b[0m \u001b[0max\u001b[0m \u001b[0;34m=\u001b[0m \u001b[0maxs\u001b[0m\u001b[0;34m.\u001b[0m\u001b[0mflatten\u001b[0m\u001b[0;34m(\u001b[0m\u001b[0;34m)\u001b[0m\u001b[0;34m[\u001b[0m\u001b[0;36m10\u001b[0m\u001b[0;34m]\u001b[0m\u001b[0;34m\u001b[0m\u001b[0;34m\u001b[0m\u001b[0m\n\u001b[1;32m      3\u001b[0m \u001b[0mim\u001b[0m \u001b[0;34m=\u001b[0m \u001b[0max\u001b[0m\u001b[0;34m.\u001b[0m\u001b[0mimages\u001b[0m\u001b[0;34m\u001b[0m\u001b[0;34m\u001b[0m\u001b[0m\n\u001b[1;32m      4\u001b[0m \u001b[0mim\u001b[0m\u001b[0;34m[\u001b[0m\u001b[0;36m0\u001b[0m\u001b[0;34m]\u001b[0m\u001b[0;34m.\u001b[0m\u001b[0mcolorbar\u001b[0m\u001b[0;34m.\u001b[0m\u001b[0mset_ticks\u001b[0m\u001b[0;34m(\u001b[0m\u001b[0;34m[\u001b[0m\u001b[0;36m1\u001b[0m\u001b[0;34m,\u001b[0m\u001b[0;36m2\u001b[0m\u001b[0;34m,\u001b[0m\u001b[0;36m3\u001b[0m\u001b[0;34m]\u001b[0m\u001b[0;34m)\u001b[0m\u001b[0;34m\u001b[0m\u001b[0;34m\u001b[0m\u001b[0m\n\u001b[1;32m      5\u001b[0m \u001b[0max\u001b[0m \u001b[0;34m=\u001b[0m \u001b[0maxs\u001b[0m\u001b[0;34m.\u001b[0m\u001b[0mflatten\u001b[0m\u001b[0;34m(\u001b[0m\u001b[0;34m)\u001b[0m\u001b[0;34m[\u001b[0m\u001b[0;36m8\u001b[0m\u001b[0;34m]\u001b[0m\u001b[0;34m\u001b[0m\u001b[0;34m\u001b[0m\u001b[0m\n",
      "\u001b[0;31mNameError\u001b[0m: name 'stack' is not defined"
     ]
    }
   ],
   "source": [
    "axs = stack.plot(figsize=(9, 7))\n",
    "ax = axs.flatten()[10]\n",
    "im = ax.images\n",
    "im[0].colorbar.set_ticks([1,2,3])\n",
    "ax = axs.flatten()[8]\n",
    "ax.tick_params(axis='x', labelrotation=65)\n",
    "\n",
    "plt.tight_layout()\n",
    "plt.show()"
   ]
  },
  {
   "cell_type": "markdown",
   "id": "d9361e18",
   "metadata": {},
   "source": [
    "# External Validation on the dataset outside of our AOI"
   ]
  },
  {
   "cell_type": "code",
   "execution_count": 39,
   "id": "92f0b69a",
   "metadata": {},
   "outputs": [],
   "source": [
    "external = pd.read_csv(\"/mnt/q/Training Data/ExternalValidation_50%roadsremoved.csv\")\n",
    "\n",
    "\n",
    "#external = pd.read_csv(\"/mnt/e/LSM - NGU metode/ExternalValidation_NGU_method.csv\")\n"
   ]
  },
  {
   "cell_type": "code",
   "execution_count": 40,
   "id": "fb2f810a",
   "metadata": {},
   "outputs": [
    {
     "data": {
      "text/html": [
       "<div>\n",
       "<style scoped>\n",
       "    .dataframe tbody tr th:only-of-type {\n",
       "        vertical-align: middle;\n",
       "    }\n",
       "\n",
       "    .dataframe tbody tr th {\n",
       "        vertical-align: top;\n",
       "    }\n",
       "\n",
       "    .dataframe thead th {\n",
       "        text-align: right;\n",
       "    }\n",
       "</style>\n",
       "<table border=\"1\" class=\"dataframe\">\n",
       "  <thead>\n",
       "    <tr style=\"text-align: right;\">\n",
       "      <th></th>\n",
       "      <th>Landslide</th>\n",
       "      <th>eastness</th>\n",
       "      <th>profile</th>\n",
       "      <th>northernes</th>\n",
       "      <th>spi</th>\n",
       "      <th>tri</th>\n",
       "      <th>twi</th>\n",
       "      <th>elevation</th>\n",
       "      <th>d_river</th>\n",
       "      <th>landforms</th>\n",
       "      <th>d_roads</th>\n",
       "      <th>losmasse</th>\n",
       "      <th>ndvi</th>\n",
       "      <th>a_perc</th>\n",
       "      <th>landuse</th>\n",
       "      <th>soil_con</th>\n",
       "      <th>geometry</th>\n",
       "    </tr>\n",
       "  </thead>\n",
       "  <tbody>\n",
       "    <tr>\n",
       "      <th>0</th>\n",
       "      <td>0</td>\n",
       "      <td>0.962323</td>\n",
       "      <td>0.000732</td>\n",
       "      <td>-0.271910</td>\n",
       "      <td>0.000000</td>\n",
       "      <td>1.60449</td>\n",
       "      <td>5.32411</td>\n",
       "      <td>160.31200</td>\n",
       "      <td>474.6850</td>\n",
       "      <td>6</td>\n",
       "      <td>36.3605</td>\n",
       "      <td>12</td>\n",
       "      <td>0.166702</td>\n",
       "      <td>2363.78</td>\n",
       "      <td>3</td>\n",
       "      <td>2</td>\n",
       "      <td>POINT (7437.11629948128 6832036.194836659)</td>\n",
       "    </tr>\n",
       "    <tr>\n",
       "      <th>1</th>\n",
       "      <td>0</td>\n",
       "      <td>0.372662</td>\n",
       "      <td>0.052982</td>\n",
       "      <td>-0.927967</td>\n",
       "      <td>0.000000</td>\n",
       "      <td>3.90396</td>\n",
       "      <td>4.58652</td>\n",
       "      <td>3.91479</td>\n",
       "      <td>591.7320</td>\n",
       "      <td>6</td>\n",
       "      <td>444.4200</td>\n",
       "      <td>70</td>\n",
       "      <td>0.166677</td>\n",
       "      <td>2548.66</td>\n",
       "      <td>3</td>\n",
       "      <td>4</td>\n",
       "      <td>POINT (-659.9675785745937 6849831.277038573)</td>\n",
       "    </tr>\n",
       "    <tr>\n",
       "      <th>2</th>\n",
       "      <td>0</td>\n",
       "      <td>-0.967150</td>\n",
       "      <td>-0.001381</td>\n",
       "      <td>0.254208</td>\n",
       "      <td>-0.057006</td>\n",
       "      <td>2.92559</td>\n",
       "      <td>5.35490</td>\n",
       "      <td>313.22700</td>\n",
       "      <td>346.1680</td>\n",
       "      <td>6</td>\n",
       "      <td>2091.6800</td>\n",
       "      <td>12</td>\n",
       "      <td>0.166693</td>\n",
       "      <td>2809.23</td>\n",
       "      <td>2</td>\n",
       "      <td>4</td>\n",
       "      <td>POINT (-35440.531731893185 6842629.8641858585)</td>\n",
       "    </tr>\n",
       "    <tr>\n",
       "      <th>3</th>\n",
       "      <td>0</td>\n",
       "      <td>0.463936</td>\n",
       "      <td>0.023859</td>\n",
       "      <td>-0.885869</td>\n",
       "      <td>2.181400</td>\n",
       "      <td>5.55362</td>\n",
       "      <td>5.82474</td>\n",
       "      <td>234.45300</td>\n",
       "      <td>226.3830</td>\n",
       "      <td>9</td>\n",
       "      <td>197.7730</td>\n",
       "      <td>70</td>\n",
       "      <td>0.166695</td>\n",
       "      <td>3852.65</td>\n",
       "      <td>3</td>\n",
       "      <td>4</td>\n",
       "      <td>POINT (-15360.830580518288 6826919.694987002)</td>\n",
       "    </tr>\n",
       "    <tr>\n",
       "      <th>4</th>\n",
       "      <td>0</td>\n",
       "      <td>-0.987253</td>\n",
       "      <td>0.014977</td>\n",
       "      <td>-0.159158</td>\n",
       "      <td>3.104450</td>\n",
       "      <td>3.71801</td>\n",
       "      <td>7.44055</td>\n",
       "      <td>7.32115</td>\n",
       "      <td>54.9886</td>\n",
       "      <td>6</td>\n",
       "      <td>1180.3000</td>\n",
       "      <td>130</td>\n",
       "      <td>0.166693</td>\n",
       "      <td>2848.11</td>\n",
       "      <td>2</td>\n",
       "      <td>4</td>\n",
       "      <td>POINT (-30223.90984182994 6851922.638045857)</td>\n",
       "    </tr>\n",
       "  </tbody>\n",
       "</table>\n",
       "</div>"
      ],
      "text/plain": [
       "   Landslide  eastness   profile  northernes       spi      tri      twi  \\\n",
       "0          0  0.962323  0.000732   -0.271910  0.000000  1.60449  5.32411   \n",
       "1          0  0.372662  0.052982   -0.927967  0.000000  3.90396  4.58652   \n",
       "2          0 -0.967150 -0.001381    0.254208 -0.057006  2.92559  5.35490   \n",
       "3          0  0.463936  0.023859   -0.885869  2.181400  5.55362  5.82474   \n",
       "4          0 -0.987253  0.014977   -0.159158  3.104450  3.71801  7.44055   \n",
       "\n",
       "   elevation   d_river  landforms    d_roads  losmasse      ndvi   a_perc  \\\n",
       "0  160.31200  474.6850          6    36.3605        12  0.166702  2363.78   \n",
       "1    3.91479  591.7320          6   444.4200        70  0.166677  2548.66   \n",
       "2  313.22700  346.1680          6  2091.6800        12  0.166693  2809.23   \n",
       "3  234.45300  226.3830          9   197.7730        70  0.166695  3852.65   \n",
       "4    7.32115   54.9886          6  1180.3000       130  0.166693  2848.11   \n",
       "\n",
       "   landuse  soil_con                                        geometry  \n",
       "0        3         2      POINT (7437.11629948128 6832036.194836659)  \n",
       "1        3         4    POINT (-659.9675785745937 6849831.277038573)  \n",
       "2        2         4  POINT (-35440.531731893185 6842629.8641858585)  \n",
       "3        3         4   POINT (-15360.830580518288 6826919.694987002)  \n",
       "4        2         4    POINT (-30223.90984182994 6851922.638045857)  "
      ]
     },
     "execution_count": 40,
     "metadata": {},
     "output_type": "execute_result"
    }
   ],
   "source": [
    "external.head()"
   ]
  },
  {
   "cell_type": "markdown",
   "id": "2cd0c6e2",
   "metadata": {},
   "source": [
    "Dropp unwanted columns"
   ]
  },
  {
   "cell_type": "code",
   "execution_count": 41,
   "id": "2a00544c",
   "metadata": {},
   "outputs": [],
   "source": [
    "external = external.drop(columns=['geometry']) # / Remove unwanted columns if needed"
   ]
  },
  {
   "cell_type": "code",
   "execution_count": 42,
   "id": "c6aa3e19",
   "metadata": {},
   "outputs": [
    {
     "data": {
      "text/html": [
       "<div>\n",
       "<style scoped>\n",
       "    .dataframe tbody tr th:only-of-type {\n",
       "        vertical-align: middle;\n",
       "    }\n",
       "\n",
       "    .dataframe tbody tr th {\n",
       "        vertical-align: top;\n",
       "    }\n",
       "\n",
       "    .dataframe thead th {\n",
       "        text-align: right;\n",
       "    }\n",
       "</style>\n",
       "<table border=\"1\" class=\"dataframe\">\n",
       "  <thead>\n",
       "    <tr style=\"text-align: right;\">\n",
       "      <th></th>\n",
       "      <th>Landslide</th>\n",
       "      <th>eastness</th>\n",
       "      <th>profile</th>\n",
       "      <th>northernes</th>\n",
       "      <th>spi</th>\n",
       "      <th>tri</th>\n",
       "      <th>twi</th>\n",
       "      <th>elevation</th>\n",
       "      <th>d_river</th>\n",
       "      <th>landforms</th>\n",
       "      <th>d_roads</th>\n",
       "      <th>losmasse</th>\n",
       "      <th>ndvi</th>\n",
       "      <th>a_perc</th>\n",
       "      <th>landuse</th>\n",
       "      <th>soil_con</th>\n",
       "    </tr>\n",
       "  </thead>\n",
       "  <tbody>\n",
       "    <tr>\n",
       "      <th>0</th>\n",
       "      <td>0</td>\n",
       "      <td>0.962323</td>\n",
       "      <td>0.000732</td>\n",
       "      <td>-0.271910</td>\n",
       "      <td>0.000000</td>\n",
       "      <td>1.60449</td>\n",
       "      <td>5.32411</td>\n",
       "      <td>160.31200</td>\n",
       "      <td>474.6850</td>\n",
       "      <td>6</td>\n",
       "      <td>36.3605</td>\n",
       "      <td>12</td>\n",
       "      <td>0.166702</td>\n",
       "      <td>2363.78</td>\n",
       "      <td>3</td>\n",
       "      <td>2</td>\n",
       "    </tr>\n",
       "    <tr>\n",
       "      <th>1</th>\n",
       "      <td>0</td>\n",
       "      <td>0.372662</td>\n",
       "      <td>0.052982</td>\n",
       "      <td>-0.927967</td>\n",
       "      <td>0.000000</td>\n",
       "      <td>3.90396</td>\n",
       "      <td>4.58652</td>\n",
       "      <td>3.91479</td>\n",
       "      <td>591.7320</td>\n",
       "      <td>6</td>\n",
       "      <td>444.4200</td>\n",
       "      <td>70</td>\n",
       "      <td>0.166677</td>\n",
       "      <td>2548.66</td>\n",
       "      <td>3</td>\n",
       "      <td>4</td>\n",
       "    </tr>\n",
       "    <tr>\n",
       "      <th>2</th>\n",
       "      <td>0</td>\n",
       "      <td>-0.967150</td>\n",
       "      <td>-0.001381</td>\n",
       "      <td>0.254208</td>\n",
       "      <td>-0.057006</td>\n",
       "      <td>2.92559</td>\n",
       "      <td>5.35490</td>\n",
       "      <td>313.22700</td>\n",
       "      <td>346.1680</td>\n",
       "      <td>6</td>\n",
       "      <td>2091.6800</td>\n",
       "      <td>12</td>\n",
       "      <td>0.166693</td>\n",
       "      <td>2809.23</td>\n",
       "      <td>2</td>\n",
       "      <td>4</td>\n",
       "    </tr>\n",
       "    <tr>\n",
       "      <th>3</th>\n",
       "      <td>0</td>\n",
       "      <td>0.463936</td>\n",
       "      <td>0.023859</td>\n",
       "      <td>-0.885869</td>\n",
       "      <td>2.181400</td>\n",
       "      <td>5.55362</td>\n",
       "      <td>5.82474</td>\n",
       "      <td>234.45300</td>\n",
       "      <td>226.3830</td>\n",
       "      <td>9</td>\n",
       "      <td>197.7730</td>\n",
       "      <td>70</td>\n",
       "      <td>0.166695</td>\n",
       "      <td>3852.65</td>\n",
       "      <td>3</td>\n",
       "      <td>4</td>\n",
       "    </tr>\n",
       "    <tr>\n",
       "      <th>4</th>\n",
       "      <td>0</td>\n",
       "      <td>-0.987253</td>\n",
       "      <td>0.014977</td>\n",
       "      <td>-0.159158</td>\n",
       "      <td>3.104450</td>\n",
       "      <td>3.71801</td>\n",
       "      <td>7.44055</td>\n",
       "      <td>7.32115</td>\n",
       "      <td>54.9886</td>\n",
       "      <td>6</td>\n",
       "      <td>1180.3000</td>\n",
       "      <td>130</td>\n",
       "      <td>0.166693</td>\n",
       "      <td>2848.11</td>\n",
       "      <td>2</td>\n",
       "      <td>4</td>\n",
       "    </tr>\n",
       "  </tbody>\n",
       "</table>\n",
       "</div>"
      ],
      "text/plain": [
       "   Landslide  eastness   profile  northernes       spi      tri      twi  \\\n",
       "0          0  0.962323  0.000732   -0.271910  0.000000  1.60449  5.32411   \n",
       "1          0  0.372662  0.052982   -0.927967  0.000000  3.90396  4.58652   \n",
       "2          0 -0.967150 -0.001381    0.254208 -0.057006  2.92559  5.35490   \n",
       "3          0  0.463936  0.023859   -0.885869  2.181400  5.55362  5.82474   \n",
       "4          0 -0.987253  0.014977   -0.159158  3.104450  3.71801  7.44055   \n",
       "\n",
       "   elevation   d_river  landforms    d_roads  losmasse      ndvi   a_perc  \\\n",
       "0  160.31200  474.6850          6    36.3605        12  0.166702  2363.78   \n",
       "1    3.91479  591.7320          6   444.4200        70  0.166677  2548.66   \n",
       "2  313.22700  346.1680          6  2091.6800        12  0.166693  2809.23   \n",
       "3  234.45300  226.3830          9   197.7730        70  0.166695  3852.65   \n",
       "4    7.32115   54.9886          6  1180.3000       130  0.166693  2848.11   \n",
       "\n",
       "   landuse  soil_con  \n",
       "0        3         2  \n",
       "1        3         4  \n",
       "2        2         4  \n",
       "3        3         4  \n",
       "4        2         4  "
      ]
     },
     "execution_count": 42,
     "metadata": {},
     "output_type": "execute_result"
    }
   ],
   "source": [
    "external.head()"
   ]
  },
  {
   "cell_type": "code",
   "execution_count": 43,
   "id": "56501be7",
   "metadata": {},
   "outputs": [
    {
     "name": "stdout",
     "output_type": "stream",
     "text": [
      "<class 'pandas.core.frame.DataFrame'>\n",
      "RangeIndex: 466 entries, 0 to 465\n",
      "Data columns (total 16 columns):\n",
      " #   Column      Non-Null Count  Dtype  \n",
      "---  ------      --------------  -----  \n",
      " 0   Landslide   466 non-null    int64  \n",
      " 1   eastness    466 non-null    float64\n",
      " 2   profile     466 non-null    float64\n",
      " 3   northernes  466 non-null    float64\n",
      " 4   spi         466 non-null    float64\n",
      " 5   tri         466 non-null    float64\n",
      " 6   twi         466 non-null    float64\n",
      " 7   elevation   466 non-null    float64\n",
      " 8   d_river     466 non-null    float64\n",
      " 9   landforms   466 non-null    int64  \n",
      " 10  d_roads     466 non-null    float64\n",
      " 11  losmasse    466 non-null    int64  \n",
      " 12  ndvi        466 non-null    float64\n",
      " 13  a_perc      466 non-null    float64\n",
      " 14  landuse     466 non-null    int64  \n",
      " 15  soil_con    466 non-null    int64  \n",
      "dtypes: float64(11), int64(5)\n",
      "memory usage: 58.4 KB\n"
     ]
    }
   ],
   "source": [
    "external.info()"
   ]
  },
  {
   "cell_type": "code",
   "execution_count": 44,
   "id": "95fcaf14",
   "metadata": {},
   "outputs": [
    {
     "data": {
      "text/plain": [
       "0    234\n",
       "1    232\n",
       "Name: Landslide, dtype: int64"
      ]
     },
     "execution_count": 44,
     "metadata": {},
     "output_type": "execute_result"
    }
   ],
   "source": [
    "external['Landslide'].value_counts()"
   ]
  },
  {
   "cell_type": "markdown",
   "id": "288a944f",
   "metadata": {},
   "source": [
    "Dividing the data into variables and the labels"
   ]
  },
  {
   "cell_type": "code",
   "execution_count": 45,
   "id": "94c7f8b3",
   "metadata": {},
   "outputs": [],
   "source": [
    "X_val = external.iloc[:, 1:] # Select all rows (:) and columns except for the first column"
   ]
  },
  {
   "cell_type": "code",
   "execution_count": 46,
   "id": "0baa311e",
   "metadata": {},
   "outputs": [
    {
     "data": {
      "text/html": [
       "<div>\n",
       "<style scoped>\n",
       "    .dataframe tbody tr th:only-of-type {\n",
       "        vertical-align: middle;\n",
       "    }\n",
       "\n",
       "    .dataframe tbody tr th {\n",
       "        vertical-align: top;\n",
       "    }\n",
       "\n",
       "    .dataframe thead th {\n",
       "        text-align: right;\n",
       "    }\n",
       "</style>\n",
       "<table border=\"1\" class=\"dataframe\">\n",
       "  <thead>\n",
       "    <tr style=\"text-align: right;\">\n",
       "      <th></th>\n",
       "      <th>eastness</th>\n",
       "      <th>profile</th>\n",
       "      <th>northernes</th>\n",
       "      <th>spi</th>\n",
       "      <th>tri</th>\n",
       "      <th>twi</th>\n",
       "      <th>elevation</th>\n",
       "      <th>d_river</th>\n",
       "      <th>landforms</th>\n",
       "      <th>d_roads</th>\n",
       "      <th>losmasse</th>\n",
       "      <th>ndvi</th>\n",
       "      <th>a_perc</th>\n",
       "      <th>landuse</th>\n",
       "      <th>soil_con</th>\n",
       "    </tr>\n",
       "  </thead>\n",
       "  <tbody>\n",
       "    <tr>\n",
       "      <th>0</th>\n",
       "      <td>0.962323</td>\n",
       "      <td>0.000732</td>\n",
       "      <td>-0.271910</td>\n",
       "      <td>0.000000</td>\n",
       "      <td>1.60449</td>\n",
       "      <td>5.32411</td>\n",
       "      <td>160.31200</td>\n",
       "      <td>474.6850</td>\n",
       "      <td>6</td>\n",
       "      <td>36.3605</td>\n",
       "      <td>12</td>\n",
       "      <td>0.166702</td>\n",
       "      <td>2363.78</td>\n",
       "      <td>3</td>\n",
       "      <td>2</td>\n",
       "    </tr>\n",
       "    <tr>\n",
       "      <th>1</th>\n",
       "      <td>0.372662</td>\n",
       "      <td>0.052982</td>\n",
       "      <td>-0.927967</td>\n",
       "      <td>0.000000</td>\n",
       "      <td>3.90396</td>\n",
       "      <td>4.58652</td>\n",
       "      <td>3.91479</td>\n",
       "      <td>591.7320</td>\n",
       "      <td>6</td>\n",
       "      <td>444.4200</td>\n",
       "      <td>70</td>\n",
       "      <td>0.166677</td>\n",
       "      <td>2548.66</td>\n",
       "      <td>3</td>\n",
       "      <td>4</td>\n",
       "    </tr>\n",
       "    <tr>\n",
       "      <th>2</th>\n",
       "      <td>-0.967150</td>\n",
       "      <td>-0.001381</td>\n",
       "      <td>0.254208</td>\n",
       "      <td>-0.057006</td>\n",
       "      <td>2.92559</td>\n",
       "      <td>5.35490</td>\n",
       "      <td>313.22700</td>\n",
       "      <td>346.1680</td>\n",
       "      <td>6</td>\n",
       "      <td>2091.6800</td>\n",
       "      <td>12</td>\n",
       "      <td>0.166693</td>\n",
       "      <td>2809.23</td>\n",
       "      <td>2</td>\n",
       "      <td>4</td>\n",
       "    </tr>\n",
       "    <tr>\n",
       "      <th>3</th>\n",
       "      <td>0.463936</td>\n",
       "      <td>0.023859</td>\n",
       "      <td>-0.885869</td>\n",
       "      <td>2.181400</td>\n",
       "      <td>5.55362</td>\n",
       "      <td>5.82474</td>\n",
       "      <td>234.45300</td>\n",
       "      <td>226.3830</td>\n",
       "      <td>9</td>\n",
       "      <td>197.7730</td>\n",
       "      <td>70</td>\n",
       "      <td>0.166695</td>\n",
       "      <td>3852.65</td>\n",
       "      <td>3</td>\n",
       "      <td>4</td>\n",
       "    </tr>\n",
       "    <tr>\n",
       "      <th>4</th>\n",
       "      <td>-0.987253</td>\n",
       "      <td>0.014977</td>\n",
       "      <td>-0.159158</td>\n",
       "      <td>3.104450</td>\n",
       "      <td>3.71801</td>\n",
       "      <td>7.44055</td>\n",
       "      <td>7.32115</td>\n",
       "      <td>54.9886</td>\n",
       "      <td>6</td>\n",
       "      <td>1180.3000</td>\n",
       "      <td>130</td>\n",
       "      <td>0.166693</td>\n",
       "      <td>2848.11</td>\n",
       "      <td>2</td>\n",
       "      <td>4</td>\n",
       "    </tr>\n",
       "  </tbody>\n",
       "</table>\n",
       "</div>"
      ],
      "text/plain": [
       "   eastness   profile  northernes       spi      tri      twi  elevation  \\\n",
       "0  0.962323  0.000732   -0.271910  0.000000  1.60449  5.32411  160.31200   \n",
       "1  0.372662  0.052982   -0.927967  0.000000  3.90396  4.58652    3.91479   \n",
       "2 -0.967150 -0.001381    0.254208 -0.057006  2.92559  5.35490  313.22700   \n",
       "3  0.463936  0.023859   -0.885869  2.181400  5.55362  5.82474  234.45300   \n",
       "4 -0.987253  0.014977   -0.159158  3.104450  3.71801  7.44055    7.32115   \n",
       "\n",
       "    d_river  landforms    d_roads  losmasse      ndvi   a_perc  landuse  \\\n",
       "0  474.6850          6    36.3605        12  0.166702  2363.78        3   \n",
       "1  591.7320          6   444.4200        70  0.166677  2548.66        3   \n",
       "2  346.1680          6  2091.6800        12  0.166693  2809.23        2   \n",
       "3  226.3830          9   197.7730        70  0.166695  3852.65        3   \n",
       "4   54.9886          6  1180.3000       130  0.166693  2848.11        2   \n",
       "\n",
       "   soil_con  \n",
       "0         2  \n",
       "1         4  \n",
       "2         4  \n",
       "3         4  \n",
       "4         4  "
      ]
     },
     "execution_count": 46,
     "metadata": {},
     "output_type": "execute_result"
    }
   ],
   "source": [
    "X_val.head()"
   ]
  },
  {
   "cell_type": "code",
   "execution_count": 47,
   "id": "47db647c",
   "metadata": {},
   "outputs": [],
   "source": [
    "y_val = external[\"Landslide\"]"
   ]
  },
  {
   "cell_type": "markdown",
   "id": "8c9dc310",
   "metadata": {},
   "source": [
    "Predicting the classes of the external validation data with our trained classifier"
   ]
  },
  {
   "cell_type": "code",
   "execution_count": 48,
   "id": "3a087fb6",
   "metadata": {},
   "outputs": [],
   "source": [
    "y_pred_val = cls_loaded.predict(X_val) # cls is out trained classifier # cls_loaded if using the imported model"
   ]
  },
  {
   "cell_type": "code",
   "execution_count": 49,
   "id": "24510b4e",
   "metadata": {},
   "outputs": [
    {
     "name": "stdout",
     "output_type": "stream",
     "text": [
      "              precision    recall  f1-score   support\n",
      "\n",
      "           0       0.81      0.80      0.81       234\n",
      "           1       0.80      0.81      0.81       232\n",
      "\n",
      "    accuracy                           0.81       466\n",
      "   macro avg       0.81      0.81      0.81       466\n",
      "weighted avg       0.81      0.81      0.81       466\n",
      "\n"
     ]
    }
   ],
   "source": [
    "print(classification_report(y_val, y_pred_val))\n",
    "\n",
    "#from sklearn.metrics import accuracy_score\n",
    "#round(accuracy_score(y_val, y_pred_val), 4)\n"
   ]
  },
  {
   "cell_type": "code",
   "execution_count": 50,
   "id": "67b0d9b6",
   "metadata": {},
   "outputs": [
    {
     "data": {
      "image/png": "[encoded data removed]",
      "text/plain": [
       "<Figure size 800x600 with 2 Axes>"
      ]
     },
     "metadata": {},
     "output_type": "display_data"
    }
   ],
   "source": [
    "conf_matrix = confusion_matrix(y_val, y_pred_val)  # Ensure the order of y_test and y_pred\n",
    "\n",
    "# Creating a heatmap\n",
    "plt.figure(figsize=(8, 6))  # You can adjust the size of the figure\n",
    "sns.heatmap(conf_matrix, annot=True, fmt='d', cmap='Blues',\n",
    "            xticklabels=['Non-landslide', 'Landslide'],\n",
    "            yticklabels=['Non-landslide', 'Landslide'])\n",
    "plt.xlabel('Predicted labels')  # Label for x-axis\n",
    "plt.ylabel('True labels')  # Label for y-axis\n",
    "plt.title('Confusion Matrix')  # Title of the plot\n",
    "plt.savefig('/mnt/q/Plots/Autosklearn_MLP_CM_EcternalVal.png') \n",
    "plt.show()"
   ]
  },
  {
   "cell_type": "code",
   "execution_count": 53,
   "id": "eca45842",
   "metadata": {},
   "outputs": [
    {
     "name": "stdout",
     "output_type": "stream",
     "text": [
      "0.8068669527896996\n"
     ]
    }
   ],
   "source": [
    "# Print the overall accuracy\n",
    "print(accuracy_score(y_val, y_pred_val))"
   ]
  },
  {
   "cell_type": "code",
   "execution_count": 55,
   "id": "d5b8a850",
   "metadata": {},
   "outputs": [
    {
     "data": {
      "image/png": "[encoded data removed]",
      "text/plain": [
       "<Figure size 500x500 with 1 Axes>"
      ]
     },
     "metadata": {},
     "output_type": "display_data"
    }
   ],
   "source": [
    "# ROC-AUC Curve\n",
    "y_probs = cls_loaded.predict_proba(X_val)[:, 1]  # Get probability estimates for the positive class\n",
    "fpr, tpr, thresholds = roc_curve(y_val, y_probs, pos_label=positive_label)  # Compute ROC curve\n",
    "auc_score = roc_auc_score(y_val, y_probs)  # Compute AUC score\n",
    "\n",
    "# Plotting the ROC curve using the adjusted figure size to make the plot narrower\n",
    "fig, ax = plt.subplots(figsize=(5, 5))  # Adjust these values to make the plot narrower (width, height)\n",
    "roc_display = RocCurveDisplay(fpr=fpr, tpr=tpr)\n",
    "roc_display.plot(ax=ax)\n",
    "\n",
    "# Adding text for AUC score and additional lines for reference\n",
    "plt.text(0.7, 0.2, f'AUC: {auc_score:.2f}', fontsize=12, bbox=dict(facecolor='white', alpha=0.5))\n",
    "plt.plot([0, 0, 1], [0, 1, 1], color='green', linestyle='--', label='Perfect Prediction')\n",
    "plt.plot([0, 1], [0, 1], color='grey', linestyle=':', label='Random Guessing')\n",
    "\n",
    "plt.legend(loc='lower right')\n",
    "\n",
    "# Save the plot to a file with the adjusted figure size\n",
    "plt.savefig('/mnt/q/Plots/Autosklearn_MLP_Roc_AxternalVal.png')\n",
    "plt.show()"
   ]
  },
  {
   "cell_type": "code",
   "execution_count": null,
   "id": "59bede1e",
   "metadata": {},
   "outputs": [],
   "source": []
  }
 ],
 "metadata": {
  "kernelspec": {
   "display_name": "Python 3 (ipykernel)",
   "language": "python",
   "name": "python3"
  },
  "language_info": {
   "codemirror_mode": {
    "name": "ipython",
    "version": 3
   },
   "file_extension": ".py",
   "mimetype": "text/x-python",
   "name": "python",
   "nbconvert_exporter": "python",
   "pygments_lexer": "ipython3",
   "version": "3.7.5"
  }
 },
 "nbformat": 4,
 "nbformat_minor": 5
}
