{
 "cells": [
  {
   "cell_type": "code",
   "execution_count": 1,
   "metadata": {},
   "outputs": [
    {
     "name": "stdout",
     "output_type": "stream",
     "text": [
      "c:\\Masteroppgave\\Script\n"
     ]
    }
   ],
   "source": [
    "# Prediksjonsvariabler\n",
    "import arcpy\n",
    "from arcpy import env\n",
    "from arcpy.sa import*\n",
    "import math\n",
    "import os\n",
    "import numpy as np\n",
    "\n",
    "print(os.getcwd())\n",
    "arcpy.CheckOutExtension(\"Spatial\")\n",
    "\n",
    "env.overwriteOutput = True\n",
    "env.workspace = \"Q:\\\\Project\\\\Predictive Variables\\\\Predictive Variables.gdb\""
   ]
  },
  {
   "cell_type": "markdown",
   "metadata": {},
   "source": [
    "Prediksjonsvariabler - 10.11.23"
   ]
  },
  {
   "cell_type": "code",
   "execution_count": 2,
   "metadata": {},
   "outputs": [],
   "source": [
    "dtm = \"Q:\\\\5m External Validation Data\\\\elevation.tif\""
   ]
  },
  {
   "cell_type": "code",
   "execution_count": 4,
   "metadata": {},
   "outputs": [
    {
     "name": "stdout",
     "output_type": "stream",
     "text": [
      "Calculation of slope raster in radians completed. saved toQ:\\5m External Validation Data\\Slope_Radians.tif\n"
     ]
    }
   ],
   "source": [
    "# Slope degrees\n",
    "\n",
    "with arcpy.EnvManager(snapRaster=dtm, mask=dtm):\n",
    "    out_degrees_raster = arcpy.sa.Slope(\n",
    "        in_raster=dtm,\n",
    "        output_measurement=\"DEGREE\",\n",
    "        z_factor=1,\n",
    "        method=\"PLANAR\",\n",
    "        z_unit=\"METER\",\n",
    "        analysis_target_device=\"GPU_THEN_CPU\"\n",
    "    )\n",
    "out_degrees_raster.save(\"Q:\\\\5m External Validation Data\\\\Slope_Degrees.tif\")\n",
    "\n",
    "slope_degrees = out_degrees_raster\n",
    "\n",
    "with arcpy.EnvManager(snapRaster=dtm, mask=dtm):\n",
    "    out_percent_raster = arcpy.sa.Slope(\n",
    "        in_raster=dtm,\n",
    "        output_measurement=\"PERCENT_RISE\",\n",
    "        z_factor=1,\n",
    "        method=\"PLANAR\",\n",
    "        z_unit=\"METER\",\n",
    "        analysis_target_device=\"GPU_THEN_CPU\"\n",
    "    )\n",
    "out_percent_raster.save(\"Q:\\\\5m External Validation Data\\\\Slope_Percent.tif\")\n",
    "\n",
    "slope_percent = out_percent_raster\n",
    "\n",
    "# Slope radians:\n",
    "slope_rad = \"Q:\\\\5m External Validation Data\\\\Slope_Radians.tif\"\n",
    "slope_in_radians = Raster(slope_degrees)\n",
    "rrconvert = (slope_in_radians * 3.141593 / 180) \n",
    "rrconvert.save(slope_rad)\n",
    "print(\"Calculation of slope raster in radians completed. saved to\" + slope_rad)\n"
   ]
  },
  {
   "cell_type": "markdown",
   "metadata": {},
   "source": [
    "# Topographic Wetness Index (TWI)"
   ]
  },
  {
   "cell_type": "code",
   "execution_count": null,
   "metadata": {},
   "outputs": [],
   "source": [
    "# Topographic Wetnes Index (TWI)\n",
    "\n",
    "\n",
    "with arcpy.EnvManager(parallelProcessingFactor=\"100%\"):\n",
    "    out_surface_raster = arcpy.sa.Fill(\n",
    "        in_surface_raster=dtm,\n",
    "        z_limit=None\n",
    "    )\n",
    "\n",
    "    \n",
    "out_surface_raster.save(\"Q:\\\\5m External Validation Data\\\\HydroDTM.tif\")\n",
    "hydrodtm = out_surface_raster\n",
    "print(hydrodtm)\n",
    "\n",
    "\n",
    "with arcpy.EnvManager(snapRaster=dtm, parallelProcessingFactor=\"100%\"):\n",
    "    out_flow_direction_raster = arcpy.sa.FlowDirection(\n",
    "        in_surface_raster=hydrodtm,\n",
    "        force_flow=\"NORMAL\",\n",
    "        out_drop_raster=None,\n",
    "        flow_direction_type=\"D8\"\n",
    "    )\n",
    "out_flow_direction_raster.save(\"Q:\\\\5m External Validation Data\\\\FlowDir_asf.tif\")\n",
    "flowdir = out_flow_direction_raster\n",
    "print(flowdir)\n",
    "\n",
    "\n",
    "with arcpy.EnvManager(snapRaster=dtm, parallelProcessingFactor=\"100%\"):\n",
    "    out_accumulation_raster = arcpy.sa.FlowAccumulation(\n",
    "        in_flow_direction_raster=flowdir,\n",
    "        in_weight_raster=None,\n",
    "        data_type=\"FLOAT\",\n",
    "        flow_direction_type=\"D8\"\n",
    "    )\n",
    "out_accumulation_raster.save(\"Q:\\\\5m External Validation Data\\\\FlowAcc.tif\")\n",
    "\n",
    "flow_acc = out_accumulation_raster\n",
    "\n",
    "\n",
    "flow_acc = \"Q:\\\\5m External Validation Data\\\\FlowAcc.tif\"\n",
    "slope_percent = \"Q:\\\\5m External Validation Data\\\\Slope_Percent.tif\"\n",
    "\n",
    "\n",
    "# Calculate the TWI\n",
    "cellsize_x = float(arcpy.management.GetRasterProperties(flow_acc,\"CELLSIZEX\").getOutput(0).replace(\",\", \".\"))\n",
    "cellsize_y = float(arcpy.management.GetRasterProperties(flow_acc,\"CELLSIZEY\").getOutput(0).replace(\",\", \".\"))\n",
    "print(cellsize_x, cellsize_y)\n",
    "\n",
    "expression = f\"Ln((('{flow_acc}'+1)*({cellsize_x}*{cellsize_y}))/(('{slope_percent}'/100)+0.0001))\"\n",
    "output_twi_raster = \"Q:\\\\5m External Validation Data\\\\twi.tif\"\n",
    "arcpy.gp.RasterCalculator_sa(expression, output_twi_raster)\n",
    "# ________________________________________________________________________\n"
   ]
  },
  {
   "cell_type": "markdown",
   "metadata": {},
   "source": [
    "# TPI (Topographic Position Index)"
   ]
  },
  {
   "cell_type": "markdown",
   "metadata": {},
   "source": [
    "The calculation of TPI at small and large scale is intended for use to calculate landforms"
   ]
  },
  {
   "cell_type": "code",
   "execution_count": 3,
   "metadata": {},
   "outputs": [
    {
     "data": {
      "text/html": [
       "<div class='gpresult'><h2>Messages</h2><div id='messages' data-messages='[\"Start Time: tirsdag 16. april 2024 01:47:54\",\"Succeeded at tirsdag 16. april 2024 01:48:58 (Elapsed Time: 1 minutes 3 seconds)\"]' data-show='true'><div id = 'default' /></div></div>"
      ],
      "text/plain": [
       "<Result 'Q:\\\\5m Training Data Rasters\\\\tpi300_5m_new.tif'>"
      ]
     },
     "execution_count": 3,
     "metadata": {},
     "output_type": "execute_result"
    }
   ],
   "source": [
    "# Topographic position index (TPI)\n",
    "dtm = (\"Q:\\\\5m Training Data Rasters\\\\elevation.tif\")\n",
    "arcpy.env.workspace = ('Q:\\\\5m Training Data Rasters\\\\')\n",
    "arcpy.env.overwriteOutput = True\n",
    "\n",
    "\n",
    "# TPI 2000 - At his scale the major ridge lines and drainages are highlighted.Smaller lateral features disappear\n",
    "with arcpy.EnvManager(snapRaster=dtm, mask=dtm):\n",
    "    out_raster = arcpy.ia.FocalStatistics(\n",
    "        in_raster=dtm,\n",
    "        neighborhood=\"Annulus 370 400 CELL\", # With a cell size of 5 meters, this equates to a scale factor of 2000\n",
    "        statistics_type=\"MEAN\",\n",
    "        ignore_nodata=\"DATA\",\n",
    "        percentile_value=90\n",
    "    )\n",
    "    out_raster.save(\"TPI_Focal_2000_5m.tif\")\n",
    "\n",
    "arcpy.ddd.Minus(\n",
    "    in_raster_or_constant1=dtm,\n",
    "    in_raster_or_constant2=\"TPI_Focal_2000_5m.tif\",\n",
    "    out_raster=\"tpi2000_5m_new.tif\"\n",
    ")\n",
    "\n",
    "\n",
    "# TPI 300 - At this scale a dendridicnetwork of both main and lateral ridges and drainages are revealed\n",
    "with arcpy.EnvManager(snapRaster=dtm, mask=dtm):\n",
    "    out_raster = arcpy.ia.FocalStatistics(\n",
    "        in_raster=dtm,\n",
    "        neighborhood=\"Annulus 30 60 CELL\",\n",
    "        statistics_type=\"MEAN\",\n",
    "        ignore_nodata=\"DATA\",\n",
    "        percentile_value=90\n",
    "    )\n",
    "    out_raster.save(\"DTM_Focal_300_5m.tif\")\n",
    "\n",
    "arcpy.ddd.Minus(\n",
    "    in_raster_or_constant1=dtm,\n",
    "    in_raster_or_constant2=\"DTM_Focal_300_5m.tif\",\n",
    "    out_raster=\"tpi300_5m_new.tif\"\n",
    ")\n"
   ]
  },
  {
   "cell_type": "markdown",
   "metadata": {},
   "source": [
    "# Landforms"
   ]
  },
  {
   "cell_type": "markdown",
   "metadata": {},
   "source": [
    "Combining TPI at a small and large scale allows a variety of nested\n",
    "landforms to be distinguished. The small and large scale TPI is created based on the focal ststistics under (TPI) calculation in the previous code \n",
    "\n",
    "NB! The variables tp300_stdi and tp2000_stdi need to be standardized by centering the data around zero by subtracting the mean and dividing by the standard deviation. This can be done using the Raster Calculator tool in ArcGIS Pro"
   ]
  },
  {
   "cell_type": "code",
   "execution_count": 4,
   "metadata": {},
   "outputs": [],
   "source": [
    "arcpy.env.workspace = ('Q:\\\\5m Training Data Rasters\\\\')\n",
    "tp300_stdi = \"tpi300_5m_new_stdi.tif\"\n",
    "tp2000_stdi = \"tpi2000_5m_new_stdi.tif\"\n",
    "\n",
    "slope = \"Slope_Degrees.tif\"\n",
    "\n",
    "# Perform the conditional operations\n",
    "conditions = [\n",
    "    ((Raster(tp300_stdi) > -100) & (Raster(tp300_stdi) < 100) & (Raster(tp2000_stdi) > -100) & (Raster(tp2000_stdi) < 100) & (Raster(slope) <= 5), 5),\n",
    "    ((Raster(tp300_stdi) > -100) & (Raster(tp300_stdi) < 100) & (Raster(tp2000_stdi) > -100) & (Raster(tp2000_stdi) < 100) & (Raster(slope) >= 6), 6),\n",
    "    ((Raster(tp300_stdi) > -100) & (Raster(tp300_stdi) < 100) & (Raster(tp2000_stdi) >= 100), 7),\n",
    "    ((Raster(tp300_stdi) > -100) & (Raster(tp300_stdi) < 100) & (Raster(tp2000_stdi) <= -100), 4),\n",
    "    ((Raster(tp300_stdi) <= -100) & (Raster(tp2000_stdi) > -100) & (Raster(tp2000_stdi) < 100), 2),\n",
    "    ((Raster(tp300_stdi) >= 100) & (Raster(tp2000_stdi) > -100) & (Raster(tp2000_stdi) < 100), 9),\n",
    "    ((Raster(tp300_stdi) <= -100) & (Raster(tp2000_stdi) >= 100), 3),\n",
    "    ((Raster(tp300_stdi) <= -100) & (Raster(tp2000_stdi) <= -100), 1),\n",
    "    ((Raster(tp300_stdi) >= 100) & (Raster(tp2000_stdi) >= 100), 10),\n",
    "    ((Raster(tp300_stdi) >= 100) & (Raster(tp2000_stdi) <= -100), 8)\n",
    "]\n",
    "\n",
    "# Initialize the result with a default value\n",
    "result = Raster(tp300_stdi) * 0\n",
    "\n",
    "for condition, value in conditions:\n",
    "    result = Con(condition, value, result)\n",
    "result.save(\"landforms_new.tif\")\n"
   ]
  }
 ],
 "metadata": {
  "kernelspec": {
   "display_name": "Python 3",
   "language": "python",
   "name": "python3"
  },
  "language_info": {
   "codemirror_mode": {
    "name": "ipython",
    "version": 3
   },
   "file_extension": ".py",
   "mimetype": "text/x-python",
   "name": "python",
   "nbconvert_exporter": "python",
   "pygments_lexer": "ipython3",
   "version": "3.9.18"
  },
  "orig_nbformat": 4
 },
 "nbformat": 4,
 "nbformat_minor": 2
}
