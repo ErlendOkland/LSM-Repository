{
 "cells": [
  {
   "cell_type": "markdown",
   "metadata": {},
   "source": [
    "# This notebook explains how to extract the data from the predictor raster variables to the point layer with landslide presence/absence points"
   ]
  },
  {
   "cell_type": "code",
   "execution_count": 1,
   "metadata": {},
   "outputs": [],
   "source": [
    "import arcpy\n",
    "from arcpy.sa import *\n",
    "from arcpy import env \n",
    "\n",
    "#arcpy.env.workspace = \"Q:\\\\5m External Validation Data\\\\\"\n",
    "arcpy.env.workspace = \"Q:\\\\5m Training Data Rasters V2\\\\\""
   ]
  },
  {
   "cell_type": "markdown",
   "metadata": {},
   "source": [
    "List all the predictive rasters into a list"
   ]
  },
  {
   "cell_type": "code",
   "execution_count": 2,
   "metadata": {},
   "outputs": [],
   "source": [
    "# The two lists of rasters is just for a overview of the data ...\n",
    "rasters_training = [\n",
    "            \"twi.tif\",\n",
    "            \"spi.tif\",\n",
    "            \"tri.tif\",\n",
    "            \"tpi.tif\",\n",
    "            \"landforms.tif\",\n",
    "            \"d_river.tif\",\n",
    "            \"d_roads.tif\",\n",
    "              \n",
    "            \"northerness.tif\",\n",
    "            \"profile.tif\",\n",
    "            \"eastness.tif\",\n",
    "            \"elevation.tif\",\n",
    "            \"forestloss.tif\",\n",
    "            \"ndvi.tif\",\n",
    "            \"landuse.tif\",\n",
    "            \"losmasse.tif\",\n",
    "            \"soil_con.tif\",\n",
    "\n",
    "            'Q:\\\\DEM_Variables\\\\Training_AverageTemp.tif', \n",
    "            'Q:\\\\DEM_Variables\\\\Training_AveragePerc.tif',\n",
    "            'roughness.tif',\n",
    "            'slope_degrees.tif']\n",
    "\n",
    "\n",
    "    "
   ]
  },
  {
   "cell_type": "code",
   "execution_count": 13,
   "metadata": {},
   "outputs": [],
   "source": [
    "\n",
    "rasters_externalvalidation = ['eastness.tif',\n",
    "            'Profile_curvature.tif',\n",
    "            'northerness.tif',\n",
    "            'SPI.tif',\n",
    "            'TPI.tif',\n",
    "            'TRI.tif',\n",
    "            'roughness.tif',\n",
    "            'TWI_Raster.tif',\n",
    "            'Slope_Degrees.tif',\n",
    "            'DTM_ExVal.tif',\n",
    "            'Distance_Rivers.tif', \n",
    "            'Landforms.tif',\n",
    "            'Distance_Road.tif',\n",
    "            'Average_Temp.tif', \n",
    "            'Average_Precipitation.tif', \n",
    "\n",
    "            'Losmasse.tif',\n",
    "            'ForestLoss.tif',\n",
    "            'Landuse.tif', \n",
    "            'Grunnforhold.tif'\n",
    "            'NDVI_1m.tif'] \n",
    "            "
   ]
  },
  {
   "cell_type": "markdown",
   "metadata": {},
   "source": [
    "List the shapfile for landslide and non-landslide into a list"
   ]
  },
  {
   "cell_type": "code",
   "execution_count": 3,
   "metadata": {},
   "outputs": [],
   "source": [
    "landslide_Training = (\"E:\\\\LSM - NGU metode\\\\Landslide_non_landslide_NGU_metode_Training.shp\")\n",
    "\n",
    "landslide_ExternalVal = (\"E:\\\\LSM - NGU metode\\\\Landslide_non_landslide_NGU_metode_External.shp\")"
   ]
  },
  {
   "cell_type": "markdown",
   "metadata": {},
   "source": [
    "Loop through each raster and extract values to points"
   ]
  },
  {
   "cell_type": "code",
   "execution_count": 5,
   "metadata": {},
   "outputs": [
    {
     "data": {
      "text/html": [
       "<div class='gpresult'><h2>Messages</h2><div id='messages' data-messages='[\"Start Time: tirsdag 7. mai 2024 21:09:57\",\"Succeeded at tirsdag 7. mai 2024 21:10:17 (Elapsed Time: 20,40 seconds)\"]' data-show='true'><div id = 'default' /></div></div>"
      ],
      "text/plain": [
       "<geoprocessing server result object at 0x191c44b2c90>"
      ]
     },
     "execution_count": 5,
     "metadata": {},
     "output_type": "execute_result"
    }
   ],
   "source": [
    "\n",
    "# Extract multiple values to points for the landslide/no landslide points for the training data:\n",
    "arcpy.env.workspace = \"Q:\\\\5m Training Data Rasters V2\\\\\"\n",
    "\n",
    "arcpy.sa.ExtractMultiValuesToPoints(landslide_Training, [\n",
    "    [\"eastness.tif\", \"eastness\"],\n",
    "    [\"profile.tif\", \"profile\"],\n",
    "    [\"northernes.tif\", \"northernes\"],\n",
    "    [\"spi.tif\", \"spi\"],\n",
    "    [\"tpi.tif\", \"tpi\"],\n",
    "    [\"tri.tif\", \"tri\"],\n",
    "    [\"twi.tif\", \"twi\"],\n",
    "    ['roughness.tif', \"roughness\"],\n",
    "    ['slope_degrees.tif', \"slope\"],\n",
    "    [\"elevation.tif\", \"elevation\"],\n",
    "    [\"d_river.tif\", \"d_river\"],\n",
    "    [\"landforms.tif\", \"landforms\"],\n",
    "    [\"d_roads.tif\", \"d_roads\"],\n",
    "    [\"losmasse.tif\", \"losmasse\"],\n",
    "    [\"forestloss.tif\", \"forestloss\"],\n",
    "    [\"ndvi.tif\", \"ndvi\"],\n",
    "    ['Q:\\\\DEM_Variables\\\\Training_AverageTemp.tif', \"a_temp\"],\n",
    "    ['Q:\\\\DEM_Variables\\\\Training_AveragePerc.tif', \"a_perc\"],\n",
    "    [\"landuse.tif\", \"landuse\"],\n",
    "    [\"soil_con.tif\", \"soil_con\"]\n",
    "], \"NONE\")\n",
    "\n",
    "\n"
   ]
  },
  {
   "cell_type": "markdown",
   "metadata": {},
   "source": [
    "External Validation Data:"
   ]
  },
  {
   "cell_type": "code",
   "execution_count": 6,
   "metadata": {},
   "outputs": [
    {
     "data": {
      "text/html": [
       "<div class='gpresult'><h2>Messages</h2><div id='messages' data-messages='[\"Start Time: tirsdag 7. mai 2024 21:11:22\",\"Succeeded at tirsdag 7. mai 2024 21:12:04 (Elapsed Time: 42,82 seconds)\"]' data-show='true'><div id = 'default' /></div></div>"
      ],
      "text/plain": [
       "<geoprocessing server result object at 0x191c51cf4b0>"
      ]
     },
     "execution_count": 6,
     "metadata": {},
     "output_type": "execute_result"
    }
   ],
   "source": [
    "# Extract multiple values to points for the landslide/no landslide points for the external validation data:\n",
    "\n",
    "arcpy.env.workspace = \"Q:\\\\5m External Validation Data\\\\\"\n",
    "\n",
    "arcpy.sa.ExtractMultiValuesToPoints(landslide_ExternalVal, [\n",
    "    [\"eastness.tif\", \"eastness\"],\n",
    "    [\"Profile_curvature.tif\", \"profile\"],\n",
    "    [\"northerness.tif\", \"northerness\"],\n",
    "    [\"spi.tif\", \"spi\"],\n",
    "    [\"tpi.tif\", \"tpi\"],\n",
    "    [\"tri.tif\", \"tri\"],\n",
    "    [\"roughness.tif\", \"roughness\"],\n",
    "    [\"twi.tif\", \"twi\"],\n",
    "    [\"Slope_Degrees.tif\", \"slope\"],\n",
    "    [\"elevation.tif\", \"elevation\"],\n",
    "    [\"d_river.tif\", \"d_river\"],\n",
    "    [\"landforms.tif\", \"landforms\"],\n",
    "    [\"d_roads.tif\", \"d_roads\"],\n",
    "    [\"Average_Temp.tif\", \"a_temp\"],\n",
    "    [\"G:\\\\External Validation Data\\\\Average_Precipitation.tif\", \"a_perc\"],\n",
    "    [\"G:\\\\External Validation Data\\\\Løsmasse.tif\", \"losmasse\"],\n",
    "    [\"G:\\\\External Validation Data\\\\ForestLoss_ExternalVal.tif\", \"forestloss\"],\n",
    "    [\"G:\\\\External Validation Data\\\\Landuse_ExternalVal.tif\", \"landuse\"],\n",
    "    [\"G:\\\\External Validation Data\\\\Grunnforhold_ExVal.tif\",\"soil_con\"],\n",
    "    [\"G:\\\\External Validation Data\\\\NDVI_ExternalVal.tif\", \"ndvi\"]\n",
    "], \"NONE\")\n",
    "\n",
    "\n",
    "\n"
   ]
  }
 ],
 "metadata": {
  "kernelspec": {
   "display_name": "Python 3",
   "language": "python",
   "name": "python3"
  },
  "language_info": {
   "codemirror_mode": {
    "name": "ipython",
    "version": 3
   },
   "file_extension": ".py",
   "mimetype": "text/x-python",
   "name": "python",
   "nbconvert_exporter": "python",
   "pygments_lexer": "ipython3",
   "version": "3.9.18"
  }
 },
 "nbformat": 4,
 "nbformat_minor": 2
}
